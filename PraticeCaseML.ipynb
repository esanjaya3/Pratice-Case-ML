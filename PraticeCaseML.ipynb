{
  "nbformat": 4,
  "nbformat_minor": 0,
  "metadata": {
    "colab": {
      "name": "PraticeCaseML.ipynb",
      "provenance": [],
      "collapsed_sections": [
        "OiDmuSQNEK1i",
        "qGyW1QouESwG",
        "hmsgOoFLfDfB",
        "ofyDTlfdfGft"
      ]
    },
    "kernelspec": {
      "name": "python3",
      "display_name": "Python 3"
    },
    "language_info": {
      "name": "python"
    }
  },
  "cells": [
    {
      "cell_type": "markdown",
      "metadata": {
        "id": "YTlkSeyWEAa9"
      },
      "source": [
        "# **Pratice Case - Machine Learning**\n",
        "# by : Edwin Sanjaya\n"
      ]
    },
    {
      "cell_type": "markdown",
      "metadata": {
        "id": "OiDmuSQNEK1i"
      },
      "source": [
        "## **Scenario**\n",
        "\n",
        "This data-set contains transaction data in a supermarket. You as a data scientist at the retail company are expected to be able to process the data that has been collected so that it becomes valuable insight. Please answer the question below and explore your creativity. \n"
      ]
    },
    {
      "cell_type": "markdown",
      "metadata": {
        "id": "qGyW1QouESwG"
      },
      "source": [
        "## **Data Dictionary**\n",
        "\n",
        "Kode_Bayar : transactions code\n",
        "\n",
        "Kode_Barang\t: items code\n",
        "\n",
        "Barang : items\n",
        "\n",
        "Jumlah : number of items sold\n",
        "\n",
        "Tanggal_Transaksi\t: transaction datetime\n",
        "\n",
        "Harga_Satuan : unit price \n",
        "\n",
        "Kode_Pelanggan : customers code\n",
        "\n",
        "Negara : customers country"
      ]
    },
    {
      "cell_type": "markdown",
      "metadata": {
        "id": "2zNrASquFKjT"
      },
      "source": [
        "## **Data Preprocessing**"
      ]
    },
    {
      "cell_type": "code",
      "metadata": {
        "colab": {
          "base_uri": "https://localhost:8080/",
          "height": 191
        },
        "id": "7ScvaSDpFqK1",
        "outputId": "c309abec-7333-489f-978d-3edb2a7e54fe"
      },
      "source": [
        "# load data to dataframe\n",
        "import pandas as pd\n",
        "import numpy as np\n",
        "df = pd.read_csv('/content/drive/MyDrive/Fellowship-main/ML_2_Fellow.csv', encoding= 'unicode_escape')\n",
        "df.head()"
      ],
      "execution_count": 1,
      "outputs": [
        {
          "output_type": "execute_result",
          "data": {
            "text/html": [
              "<div>\n",
              "<style scoped>\n",
              "    .dataframe tbody tr th:only-of-type {\n",
              "        vertical-align: middle;\n",
              "    }\n",
              "\n",
              "    .dataframe tbody tr th {\n",
              "        vertical-align: top;\n",
              "    }\n",
              "\n",
              "    .dataframe thead th {\n",
              "        text-align: right;\n",
              "    }\n",
              "</style>\n",
              "<table border=\"1\" class=\"dataframe\">\n",
              "  <thead>\n",
              "    <tr style=\"text-align: right;\">\n",
              "      <th></th>\n",
              "      <th>Kode_Bayar</th>\n",
              "      <th>Kode_Barang</th>\n",
              "      <th>Barang</th>\n",
              "      <th>Jumlah</th>\n",
              "      <th>Tanggal_Transaksi</th>\n",
              "      <th>Harga_Satuan</th>\n",
              "      <th>Kode_Pelanggan</th>\n",
              "      <th>Negara</th>\n",
              "    </tr>\n",
              "  </thead>\n",
              "  <tbody>\n",
              "    <tr>\n",
              "      <th>0</th>\n",
              "      <td>536365</td>\n",
              "      <td>85123A</td>\n",
              "      <td>WHITE HANGING HEART T-LIGHT HOLDER</td>\n",
              "      <td>6.0</td>\n",
              "      <td>12/1/2010 8:26</td>\n",
              "      <td>2.55</td>\n",
              "      <td>17850.0</td>\n",
              "      <td>United Kingdom</td>\n",
              "    </tr>\n",
              "    <tr>\n",
              "      <th>1</th>\n",
              "      <td>536365</td>\n",
              "      <td>71053</td>\n",
              "      <td>WHITE METAL LANTERN</td>\n",
              "      <td>6.0</td>\n",
              "      <td>12/1/2010 8:26</td>\n",
              "      <td>3.39</td>\n",
              "      <td>17850.0</td>\n",
              "      <td>United Kingdom</td>\n",
              "    </tr>\n",
              "    <tr>\n",
              "      <th>2</th>\n",
              "      <td>536365</td>\n",
              "      <td>84406B</td>\n",
              "      <td>CREAM CUPID HEARTS COAT HANGER</td>\n",
              "      <td>8.0</td>\n",
              "      <td>12/1/2010 8:26</td>\n",
              "      <td>2.75</td>\n",
              "      <td>17850.0</td>\n",
              "      <td>United Kingdom</td>\n",
              "    </tr>\n",
              "    <tr>\n",
              "      <th>3</th>\n",
              "      <td>536365</td>\n",
              "      <td>84029G</td>\n",
              "      <td>KNITTED UNION FLAG HOT WATER BOTTLE</td>\n",
              "      <td>6.0</td>\n",
              "      <td>12/1/2010 8:26</td>\n",
              "      <td>3.39</td>\n",
              "      <td>17850.0</td>\n",
              "      <td>United Kingdom</td>\n",
              "    </tr>\n",
              "    <tr>\n",
              "      <th>4</th>\n",
              "      <td>536365</td>\n",
              "      <td>84029E</td>\n",
              "      <td>RED WOOLLY HOTTIE WHITE HEART.</td>\n",
              "      <td>6.0</td>\n",
              "      <td>12/1/2010 8:26</td>\n",
              "      <td>3.39</td>\n",
              "      <td>17850.0</td>\n",
              "      <td>United Kingdom</td>\n",
              "    </tr>\n",
              "  </tbody>\n",
              "</table>\n",
              "</div>"
            ],
            "text/plain": [
              "  Kode_Bayar Kode_Barang  ... Kode_Pelanggan          Negara\n",
              "0     536365      85123A  ...        17850.0  United Kingdom\n",
              "1     536365       71053  ...        17850.0  United Kingdom\n",
              "2     536365      84406B  ...        17850.0  United Kingdom\n",
              "3     536365      84029G  ...        17850.0  United Kingdom\n",
              "4     536365      84029E  ...        17850.0  United Kingdom\n",
              "\n",
              "[5 rows x 8 columns]"
            ]
          },
          "metadata": {
            "tags": []
          },
          "execution_count": 1
        }
      ]
    },
    {
      "cell_type": "code",
      "metadata": {
        "colab": {
          "base_uri": "https://localhost:8080/"
        },
        "id": "2ML1QRwoHq_p",
        "outputId": "09d16340-9606-435d-93dd-b2d3b8ea7121"
      },
      "source": [
        "# examine data type and null value\n",
        "df.info()"
      ],
      "execution_count": 2,
      "outputs": [
        {
          "output_type": "stream",
          "text": [
            "<class 'pandas.core.frame.DataFrame'>\n",
            "RangeIndex: 541909 entries, 0 to 541908\n",
            "Data columns (total 8 columns):\n",
            " #   Column             Non-Null Count   Dtype  \n",
            "---  ------             --------------   -----  \n",
            " 0   Kode_Bayar         541909 non-null  object \n",
            " 1   Kode_Barang        535874 non-null  object \n",
            " 2   Barang             534420 non-null  object \n",
            " 3   Jumlah             535874 non-null  float64\n",
            " 4   Tanggal_Transaksi  535874 non-null  object \n",
            " 5   Harga_Satuan       535874 non-null  float64\n",
            " 6   Kode_Pelanggan     403182 non-null  float64\n",
            " 7   Negara             535874 non-null  object \n",
            "dtypes: float64(3), object(5)\n",
            "memory usage: 33.1+ MB\n"
          ],
          "name": "stdout"
        }
      ]
    },
    {
      "cell_type": "code",
      "metadata": {
        "colab": {
          "base_uri": "https://localhost:8080/",
          "height": 391
        },
        "id": "TzAekw4eIIVm",
        "outputId": "11957516-c42d-4512-a2c3-daec19a84d99"
      },
      "source": [
        "# examine missing data problem\n",
        "dfna = df[df.isna().any(axis=1)]\n",
        "dfna"
      ],
      "execution_count": 3,
      "outputs": [
        {
          "output_type": "execute_result",
          "data": {
            "text/html": [
              "<div>\n",
              "<style scoped>\n",
              "    .dataframe tbody tr th:only-of-type {\n",
              "        vertical-align: middle;\n",
              "    }\n",
              "\n",
              "    .dataframe tbody tr th {\n",
              "        vertical-align: top;\n",
              "    }\n",
              "\n",
              "    .dataframe thead th {\n",
              "        text-align: right;\n",
              "    }\n",
              "</style>\n",
              "<table border=\"1\" class=\"dataframe\">\n",
              "  <thead>\n",
              "    <tr style=\"text-align: right;\">\n",
              "      <th></th>\n",
              "      <th>Kode_Bayar</th>\n",
              "      <th>Kode_Barang</th>\n",
              "      <th>Barang</th>\n",
              "      <th>Jumlah</th>\n",
              "      <th>Tanggal_Transaksi</th>\n",
              "      <th>Harga_Satuan</th>\n",
              "      <th>Kode_Pelanggan</th>\n",
              "      <th>Negara</th>\n",
              "    </tr>\n",
              "  </thead>\n",
              "  <tbody>\n",
              "    <tr>\n",
              "      <th>109</th>\n",
              "      <td>536381,82567,\"AIRLINE LOUNGE,METAL SIGN\",2,12/...</td>\n",
              "      <td>NaN</td>\n",
              "      <td>NaN</td>\n",
              "      <td>NaN</td>\n",
              "      <td>NaN</td>\n",
              "      <td>NaN</td>\n",
              "      <td>NaN</td>\n",
              "      <td>NaN</td>\n",
              "    </tr>\n",
              "    <tr>\n",
              "      <th>253</th>\n",
              "      <td>536394,21506,\"FANCY FONT BIRTHDAY CARD, \",24,1...</td>\n",
              "      <td>NaN</td>\n",
              "      <td>NaN</td>\n",
              "      <td>NaN</td>\n",
              "      <td>NaN</td>\n",
              "      <td>NaN</td>\n",
              "      <td>NaN</td>\n",
              "      <td>NaN</td>\n",
              "    </tr>\n",
              "    <tr>\n",
              "      <th>622</th>\n",
              "      <td>536414</td>\n",
              "      <td>22139</td>\n",
              "      <td>NaN</td>\n",
              "      <td>56.0</td>\n",
              "      <td>12/1/2010 11:52</td>\n",
              "      <td>0.00</td>\n",
              "      <td>NaN</td>\n",
              "      <td>United Kingdom</td>\n",
              "    </tr>\n",
              "    <tr>\n",
              "      <th>871</th>\n",
              "      <td>536477,22041,\"RECORD FRAME 7\"\" SINGLE SIZE \",4...</td>\n",
              "      <td>NaN</td>\n",
              "      <td>NaN</td>\n",
              "      <td>NaN</td>\n",
              "      <td>NaN</td>\n",
              "      <td>NaN</td>\n",
              "      <td>NaN</td>\n",
              "      <td>NaN</td>\n",
              "    </tr>\n",
              "    <tr>\n",
              "      <th>956</th>\n",
              "      <td>536520,22760,\"TRAY, BREAKFAST IN BED\",1,12/1/2...</td>\n",
              "      <td>NaN</td>\n",
              "      <td>NaN</td>\n",
              "      <td>NaN</td>\n",
              "      <td>NaN</td>\n",
              "      <td>NaN</td>\n",
              "      <td>NaN</td>\n",
              "      <td>NaN</td>\n",
              "    </tr>\n",
              "    <tr>\n",
              "      <th>...</th>\n",
              "      <td>...</td>\n",
              "      <td>...</td>\n",
              "      <td>...</td>\n",
              "      <td>...</td>\n",
              "      <td>...</td>\n",
              "      <td>...</td>\n",
              "      <td>...</td>\n",
              "      <td>...</td>\n",
              "    </tr>\n",
              "    <tr>\n",
              "      <th>541540</th>\n",
              "      <td>581498</td>\n",
              "      <td>DOT</td>\n",
              "      <td>DOTCOM POSTAGE</td>\n",
              "      <td>1.0</td>\n",
              "      <td>12/9/2011 10:26</td>\n",
              "      <td>1714.17</td>\n",
              "      <td>NaN</td>\n",
              "      <td>United Kingdom</td>\n",
              "    </tr>\n",
              "    <tr>\n",
              "      <th>541549</th>\n",
              "      <td>581501,22165,\"DIAMANTE HEART SHAPED WALL MIRRO...</td>\n",
              "      <td>NaN</td>\n",
              "      <td>NaN</td>\n",
              "      <td>NaN</td>\n",
              "      <td>NaN</td>\n",
              "      <td>NaN</td>\n",
              "      <td>NaN</td>\n",
              "      <td>NaN</td>\n",
              "    </tr>\n",
              "    <tr>\n",
              "      <th>541614</th>\n",
              "      <td>581516,21111,\"SWISS ROLL TOWEL, CHOCOLATE  SPO...</td>\n",
              "      <td>NaN</td>\n",
              "      <td>NaN</td>\n",
              "      <td>NaN</td>\n",
              "      <td>NaN</td>\n",
              "      <td>NaN</td>\n",
              "      <td>NaN</td>\n",
              "      <td>NaN</td>\n",
              "    </tr>\n",
              "    <tr>\n",
              "      <th>541649</th>\n",
              "      <td>581538,85071C,\"CHARLIE+LOLA\"\"EXTREMELY BUSY\"\" ...</td>\n",
              "      <td>NaN</td>\n",
              "      <td>NaN</td>\n",
              "      <td>NaN</td>\n",
              "      <td>NaN</td>\n",
              "      <td>NaN</td>\n",
              "      <td>NaN</td>\n",
              "      <td>NaN</td>\n",
              "    </tr>\n",
              "    <tr>\n",
              "      <th>541787</th>\n",
              "      <td>581578,21506,\"FANCY FONT BIRTHDAY CARD, \",12,1...</td>\n",
              "      <td>NaN</td>\n",
              "      <td>NaN</td>\n",
              "      <td>NaN</td>\n",
              "      <td>NaN</td>\n",
              "      <td>NaN</td>\n",
              "      <td>NaN</td>\n",
              "      <td>NaN</td>\n",
              "    </tr>\n",
              "  </tbody>\n",
              "</table>\n",
              "<p>138727 rows × 8 columns</p>\n",
              "</div>"
            ],
            "text/plain": [
              "                                               Kode_Bayar  ...          Negara\n",
              "109     536381,82567,\"AIRLINE LOUNGE,METAL SIGN\",2,12/...  ...             NaN\n",
              "253     536394,21506,\"FANCY FONT BIRTHDAY CARD, \",24,1...  ...             NaN\n",
              "622                                                536414  ...  United Kingdom\n",
              "871     536477,22041,\"RECORD FRAME 7\"\" SINGLE SIZE \",4...  ...             NaN\n",
              "956     536520,22760,\"TRAY, BREAKFAST IN BED\",1,12/1/2...  ...             NaN\n",
              "...                                                   ...  ...             ...\n",
              "541540                                             581498  ...  United Kingdom\n",
              "541549  581501,22165,\"DIAMANTE HEART SHAPED WALL MIRRO...  ...             NaN\n",
              "541614  581516,21111,\"SWISS ROLL TOWEL, CHOCOLATE  SPO...  ...             NaN\n",
              "541649  581538,85071C,\"CHARLIE+LOLA\"\"EXTREMELY BUSY\"\" ...  ...             NaN\n",
              "541787  581578,21506,\"FANCY FONT BIRTHDAY CARD, \",12,1...  ...             NaN\n",
              "\n",
              "[138727 rows x 8 columns]"
            ]
          },
          "metadata": {
            "tags": []
          },
          "execution_count": 3
        }
      ]
    },
    {
      "cell_type": "code",
      "metadata": {
        "colab": {
          "base_uri": "https://localhost:8080/"
        },
        "id": "hn-0GlnJREBB",
        "outputId": "e6252b98-ccf2-4b13-eea0-005cd84140d6"
      },
      "source": [
        "# convert df to numpy\n",
        "df_numpy = df.to_numpy()\n",
        "df_numpy.shape"
      ],
      "execution_count": 4,
      "outputs": [
        {
          "output_type": "execute_result",
          "data": {
            "text/plain": [
              "(541909, 8)"
            ]
          },
          "metadata": {
            "tags": []
          },
          "execution_count": 4
        }
      ]
    },
    {
      "cell_type": "code",
      "metadata": {
        "colab": {
          "base_uri": "https://localhost:8080/",
          "height": 391
        },
        "id": "U29bmIStPUDo",
        "outputId": "93024de6-cc58-4375-b876-0fad692dd380"
      },
      "source": [
        "# select data error 1 : incorrectly input all data in one column\n",
        "data_error1 = df[df.isna().sum(axis=1) > 4]\n",
        "data_error1_index = data_error1.index.to_numpy()\n",
        "data_error1"
      ],
      "execution_count": 5,
      "outputs": [
        {
          "output_type": "execute_result",
          "data": {
            "text/html": [
              "<div>\n",
              "<style scoped>\n",
              "    .dataframe tbody tr th:only-of-type {\n",
              "        vertical-align: middle;\n",
              "    }\n",
              "\n",
              "    .dataframe tbody tr th {\n",
              "        vertical-align: top;\n",
              "    }\n",
              "\n",
              "    .dataframe thead th {\n",
              "        text-align: right;\n",
              "    }\n",
              "</style>\n",
              "<table border=\"1\" class=\"dataframe\">\n",
              "  <thead>\n",
              "    <tr style=\"text-align: right;\">\n",
              "      <th></th>\n",
              "      <th>Kode_Bayar</th>\n",
              "      <th>Kode_Barang</th>\n",
              "      <th>Barang</th>\n",
              "      <th>Jumlah</th>\n",
              "      <th>Tanggal_Transaksi</th>\n",
              "      <th>Harga_Satuan</th>\n",
              "      <th>Kode_Pelanggan</th>\n",
              "      <th>Negara</th>\n",
              "    </tr>\n",
              "  </thead>\n",
              "  <tbody>\n",
              "    <tr>\n",
              "      <th>109</th>\n",
              "      <td>536381,82567,\"AIRLINE LOUNGE,METAL SIGN\",2,12/...</td>\n",
              "      <td>NaN</td>\n",
              "      <td>NaN</td>\n",
              "      <td>NaN</td>\n",
              "      <td>NaN</td>\n",
              "      <td>NaN</td>\n",
              "      <td>NaN</td>\n",
              "      <td>NaN</td>\n",
              "    </tr>\n",
              "    <tr>\n",
              "      <th>253</th>\n",
              "      <td>536394,21506,\"FANCY FONT BIRTHDAY CARD, \",24,1...</td>\n",
              "      <td>NaN</td>\n",
              "      <td>NaN</td>\n",
              "      <td>NaN</td>\n",
              "      <td>NaN</td>\n",
              "      <td>NaN</td>\n",
              "      <td>NaN</td>\n",
              "      <td>NaN</td>\n",
              "    </tr>\n",
              "    <tr>\n",
              "      <th>871</th>\n",
              "      <td>536477,22041,\"RECORD FRAME 7\"\" SINGLE SIZE \",4...</td>\n",
              "      <td>NaN</td>\n",
              "      <td>NaN</td>\n",
              "      <td>NaN</td>\n",
              "      <td>NaN</td>\n",
              "      <td>NaN</td>\n",
              "      <td>NaN</td>\n",
              "      <td>NaN</td>\n",
              "    </tr>\n",
              "    <tr>\n",
              "      <th>956</th>\n",
              "      <td>536520,22760,\"TRAY, BREAKFAST IN BED\",1,12/1/2...</td>\n",
              "      <td>NaN</td>\n",
              "      <td>NaN</td>\n",
              "      <td>NaN</td>\n",
              "      <td>NaN</td>\n",
              "      <td>NaN</td>\n",
              "      <td>NaN</td>\n",
              "      <td>NaN</td>\n",
              "    </tr>\n",
              "    <tr>\n",
              "      <th>1014</th>\n",
              "      <td>536520,21111,\"SWISS ROLL TOWEL, CHOCOLATE  SPO...</td>\n",
              "      <td>NaN</td>\n",
              "      <td>NaN</td>\n",
              "      <td>NaN</td>\n",
              "      <td>NaN</td>\n",
              "      <td>NaN</td>\n",
              "      <td>NaN</td>\n",
              "      <td>NaN</td>\n",
              "    </tr>\n",
              "    <tr>\n",
              "      <th>...</th>\n",
              "      <td>...</td>\n",
              "      <td>...</td>\n",
              "      <td>...</td>\n",
              "      <td>...</td>\n",
              "      <td>...</td>\n",
              "      <td>...</td>\n",
              "      <td>...</td>\n",
              "      <td>...</td>\n",
              "    </tr>\n",
              "    <tr>\n",
              "      <th>541379</th>\n",
              "      <td>581498,22041,\"RECORD FRAME 7\"\" SINGLE SIZE \",2...</td>\n",
              "      <td>NaN</td>\n",
              "      <td>NaN</td>\n",
              "      <td>NaN</td>\n",
              "      <td>NaN</td>\n",
              "      <td>NaN</td>\n",
              "      <td>NaN</td>\n",
              "      <td>NaN</td>\n",
              "    </tr>\n",
              "    <tr>\n",
              "      <th>541549</th>\n",
              "      <td>581501,22165,\"DIAMANTE HEART SHAPED WALL MIRRO...</td>\n",
              "      <td>NaN</td>\n",
              "      <td>NaN</td>\n",
              "      <td>NaN</td>\n",
              "      <td>NaN</td>\n",
              "      <td>NaN</td>\n",
              "      <td>NaN</td>\n",
              "      <td>NaN</td>\n",
              "    </tr>\n",
              "    <tr>\n",
              "      <th>541614</th>\n",
              "      <td>581516,21111,\"SWISS ROLL TOWEL, CHOCOLATE  SPO...</td>\n",
              "      <td>NaN</td>\n",
              "      <td>NaN</td>\n",
              "      <td>NaN</td>\n",
              "      <td>NaN</td>\n",
              "      <td>NaN</td>\n",
              "      <td>NaN</td>\n",
              "      <td>NaN</td>\n",
              "    </tr>\n",
              "    <tr>\n",
              "      <th>541649</th>\n",
              "      <td>581538,85071C,\"CHARLIE+LOLA\"\"EXTREMELY BUSY\"\" ...</td>\n",
              "      <td>NaN</td>\n",
              "      <td>NaN</td>\n",
              "      <td>NaN</td>\n",
              "      <td>NaN</td>\n",
              "      <td>NaN</td>\n",
              "      <td>NaN</td>\n",
              "      <td>NaN</td>\n",
              "    </tr>\n",
              "    <tr>\n",
              "      <th>541787</th>\n",
              "      <td>581578,21506,\"FANCY FONT BIRTHDAY CARD, \",12,1...</td>\n",
              "      <td>NaN</td>\n",
              "      <td>NaN</td>\n",
              "      <td>NaN</td>\n",
              "      <td>NaN</td>\n",
              "      <td>NaN</td>\n",
              "      <td>NaN</td>\n",
              "      <td>NaN</td>\n",
              "    </tr>\n",
              "  </tbody>\n",
              "</table>\n",
              "<p>6035 rows × 8 columns</p>\n",
              "</div>"
            ],
            "text/plain": [
              "                                               Kode_Bayar  ... Negara\n",
              "109     536381,82567,\"AIRLINE LOUNGE,METAL SIGN\",2,12/...  ...    NaN\n",
              "253     536394,21506,\"FANCY FONT BIRTHDAY CARD, \",24,1...  ...    NaN\n",
              "871     536477,22041,\"RECORD FRAME 7\"\" SINGLE SIZE \",4...  ...    NaN\n",
              "956     536520,22760,\"TRAY, BREAKFAST IN BED\",1,12/1/2...  ...    NaN\n",
              "1014    536520,21111,\"SWISS ROLL TOWEL, CHOCOLATE  SPO...  ...    NaN\n",
              "...                                                   ...  ...    ...\n",
              "541379  581498,22041,\"RECORD FRAME 7\"\" SINGLE SIZE \",2...  ...    NaN\n",
              "541549  581501,22165,\"DIAMANTE HEART SHAPED WALL MIRRO...  ...    NaN\n",
              "541614  581516,21111,\"SWISS ROLL TOWEL, CHOCOLATE  SPO...  ...    NaN\n",
              "541649  581538,85071C,\"CHARLIE+LOLA\"\"EXTREMELY BUSY\"\" ...  ...    NaN\n",
              "541787  581578,21506,\"FANCY FONT BIRTHDAY CARD, \",12,1...  ...    NaN\n",
              "\n",
              "[6035 rows x 8 columns]"
            ]
          },
          "metadata": {
            "tags": []
          },
          "execution_count": 5
        }
      ]
    },
    {
      "cell_type": "code",
      "metadata": {
        "colab": {
          "base_uri": "https://localhost:8080/"
        },
        "id": "TpwgB02LK6wY",
        "outputId": "6b07b4cc-3b88-4060-9bdd-c77e5ea4e984"
      },
      "source": [
        "# extract values from Kode_Bayar in data error 1\n",
        "data_error1_values = data_error1.Kode_Bayar.str.split(',').to_numpy()\n",
        "data_error1_values[0]"
      ],
      "execution_count": 6,
      "outputs": [
        {
          "output_type": "execute_result",
          "data": {
            "text/plain": [
              "['536381',\n",
              " '82567',\n",
              " '\"AIRLINE LOUNGE',\n",
              " 'METAL SIGN\"',\n",
              " '2',\n",
              " '12/1/2010 9:41',\n",
              " '2.1',\n",
              " '15311',\n",
              " 'United Kingdom']"
            ]
          },
          "metadata": {
            "tags": []
          },
          "execution_count": 6
        }
      ]
    },
    {
      "cell_type": "code",
      "metadata": {
        "id": "ZVcwgm-rQfpk"
      },
      "source": [
        "# input the data into right columns\n",
        "a = 0\n",
        "for i in data_error1_index:\n",
        "  for j in range (-5,2):\n",
        "    df_numpy[i,j] = data_error1_values[a][j]\n",
        "  a = a + 1"
      ],
      "execution_count": 7,
      "outputs": []
    },
    {
      "cell_type": "code",
      "metadata": {
        "colab": {
          "base_uri": "https://localhost:8080/",
          "height": 537
        },
        "id": "p9zxdXxhVPGd",
        "outputId": "da8caf07-2059-4012-95fe-edba69d57a73"
      },
      "source": [
        "# convert the numpy to df again and examine another null problem\n",
        "df = pd.DataFrame(df_numpy, columns = ['Kode_Bayar',\t'Kode_Barang', 'Barang',\t'Jumlah',\t'Tanggal_Transaksi',\t'Harga_Satuan',\t'Kode_Pelanggan',\t'Negara'])\n",
        "print(df.isna().any(axis=0))\n",
        "dfna = df[df.isna().any(axis=1)]\n",
        "dfna"
      ],
      "execution_count": 8,
      "outputs": [
        {
          "output_type": "stream",
          "text": [
            "Kode_Bayar           False\n",
            "Kode_Barang          False\n",
            "Barang                True\n",
            "Jumlah               False\n",
            "Tanggal_Transaksi    False\n",
            "Harga_Satuan         False\n",
            "Kode_Pelanggan        True\n",
            "Negara               False\n",
            "dtype: bool\n"
          ],
          "name": "stdout"
        },
        {
          "output_type": "execute_result",
          "data": {
            "text/html": [
              "<div>\n",
              "<style scoped>\n",
              "    .dataframe tbody tr th:only-of-type {\n",
              "        vertical-align: middle;\n",
              "    }\n",
              "\n",
              "    .dataframe tbody tr th {\n",
              "        vertical-align: top;\n",
              "    }\n",
              "\n",
              "    .dataframe thead th {\n",
              "        text-align: right;\n",
              "    }\n",
              "</style>\n",
              "<table border=\"1\" class=\"dataframe\">\n",
              "  <thead>\n",
              "    <tr style=\"text-align: right;\">\n",
              "      <th></th>\n",
              "      <th>Kode_Bayar</th>\n",
              "      <th>Kode_Barang</th>\n",
              "      <th>Barang</th>\n",
              "      <th>Jumlah</th>\n",
              "      <th>Tanggal_Transaksi</th>\n",
              "      <th>Harga_Satuan</th>\n",
              "      <th>Kode_Pelanggan</th>\n",
              "      <th>Negara</th>\n",
              "    </tr>\n",
              "  </thead>\n",
              "  <tbody>\n",
              "    <tr>\n",
              "      <th>109</th>\n",
              "      <td>536381</td>\n",
              "      <td>82567</td>\n",
              "      <td>NaN</td>\n",
              "      <td>2</td>\n",
              "      <td>12/1/2010 9:41</td>\n",
              "      <td>2.1</td>\n",
              "      <td>15311</td>\n",
              "      <td>United Kingdom</td>\n",
              "    </tr>\n",
              "    <tr>\n",
              "      <th>253</th>\n",
              "      <td>536394</td>\n",
              "      <td>21506</td>\n",
              "      <td>NaN</td>\n",
              "      <td>24</td>\n",
              "      <td>12/1/2010 10:39</td>\n",
              "      <td>0.42</td>\n",
              "      <td>13408</td>\n",
              "      <td>United Kingdom</td>\n",
              "    </tr>\n",
              "    <tr>\n",
              "      <th>622</th>\n",
              "      <td>536414</td>\n",
              "      <td>22139</td>\n",
              "      <td>NaN</td>\n",
              "      <td>56</td>\n",
              "      <td>12/1/2010 11:52</td>\n",
              "      <td>0</td>\n",
              "      <td>NaN</td>\n",
              "      <td>United Kingdom</td>\n",
              "    </tr>\n",
              "    <tr>\n",
              "      <th>871</th>\n",
              "      <td>536477</td>\n",
              "      <td>22041</td>\n",
              "      <td>NaN</td>\n",
              "      <td>48</td>\n",
              "      <td>12/1/2010 12:27</td>\n",
              "      <td>2.1</td>\n",
              "      <td>16210</td>\n",
              "      <td>United Kingdom</td>\n",
              "    </tr>\n",
              "    <tr>\n",
              "      <th>956</th>\n",
              "      <td>536520</td>\n",
              "      <td>22760</td>\n",
              "      <td>NaN</td>\n",
              "      <td>1</td>\n",
              "      <td>12/1/2010 12:43</td>\n",
              "      <td>12.75</td>\n",
              "      <td>14729</td>\n",
              "      <td>United Kingdom</td>\n",
              "    </tr>\n",
              "    <tr>\n",
              "      <th>...</th>\n",
              "      <td>...</td>\n",
              "      <td>...</td>\n",
              "      <td>...</td>\n",
              "      <td>...</td>\n",
              "      <td>...</td>\n",
              "      <td>...</td>\n",
              "      <td>...</td>\n",
              "      <td>...</td>\n",
              "    </tr>\n",
              "    <tr>\n",
              "      <th>541540</th>\n",
              "      <td>581498</td>\n",
              "      <td>DOT</td>\n",
              "      <td>DOTCOM POSTAGE</td>\n",
              "      <td>1</td>\n",
              "      <td>12/9/2011 10:26</td>\n",
              "      <td>1714.17</td>\n",
              "      <td>NaN</td>\n",
              "      <td>United Kingdom</td>\n",
              "    </tr>\n",
              "    <tr>\n",
              "      <th>541549</th>\n",
              "      <td>581501</td>\n",
              "      <td>22165</td>\n",
              "      <td>NaN</td>\n",
              "      <td>12</td>\n",
              "      <td>12/9/2011 10:46</td>\n",
              "      <td>3.95</td>\n",
              "      <td>12985</td>\n",
              "      <td>United Kingdom</td>\n",
              "    </tr>\n",
              "    <tr>\n",
              "      <th>541614</th>\n",
              "      <td>581516</td>\n",
              "      <td>21111</td>\n",
              "      <td>NaN</td>\n",
              "      <td>24</td>\n",
              "      <td>12/9/2011 11:26</td>\n",
              "      <td>1.25</td>\n",
              "      <td>14422</td>\n",
              "      <td>United Kingdom</td>\n",
              "    </tr>\n",
              "    <tr>\n",
              "      <th>541649</th>\n",
              "      <td>581538</td>\n",
              "      <td>85071C</td>\n",
              "      <td>NaN</td>\n",
              "      <td>1</td>\n",
              "      <td>12/9/2011 11:34</td>\n",
              "      <td>0.39</td>\n",
              "      <td>14446</td>\n",
              "      <td>United Kingdom</td>\n",
              "    </tr>\n",
              "    <tr>\n",
              "      <th>541787</th>\n",
              "      <td>581578</td>\n",
              "      <td>21506</td>\n",
              "      <td>NaN</td>\n",
              "      <td>12</td>\n",
              "      <td>12/9/2011 12:16</td>\n",
              "      <td>0.42</td>\n",
              "      <td>12713</td>\n",
              "      <td>Germany</td>\n",
              "    </tr>\n",
              "  </tbody>\n",
              "</table>\n",
              "<p>138727 rows × 8 columns</p>\n",
              "</div>"
            ],
            "text/plain": [
              "       Kode_Bayar Kode_Barang  ... Kode_Pelanggan          Negara\n",
              "109        536381       82567  ...          15311  United Kingdom\n",
              "253        536394       21506  ...          13408  United Kingdom\n",
              "622        536414       22139  ...            NaN  United Kingdom\n",
              "871        536477       22041  ...          16210  United Kingdom\n",
              "956        536520       22760  ...          14729  United Kingdom\n",
              "...           ...         ...  ...            ...             ...\n",
              "541540     581498         DOT  ...            NaN  United Kingdom\n",
              "541549     581501       22165  ...          12985  United Kingdom\n",
              "541614     581516       21111  ...          14422  United Kingdom\n",
              "541649     581538      85071C  ...          14446  United Kingdom\n",
              "541787     581578       21506  ...          12713         Germany\n",
              "\n",
              "[138727 rows x 8 columns]"
            ]
          },
          "metadata": {
            "tags": []
          },
          "execution_count": 8
        }
      ]
    },
    {
      "cell_type": "code",
      "metadata": {
        "id": "5FSJeT5xosiH"
      },
      "source": [
        "# delete 'C' in Kode_Bayar\n",
        "df['Kode_Bayar'] = df['Kode_Bayar'].str.replace(r'\\D', '')"
      ],
      "execution_count": 9,
      "outputs": []
    },
    {
      "cell_type": "code",
      "metadata": {
        "id": "5MGtS1dfqDnO"
      },
      "source": [
        "# replace '' with nan\n",
        "df['Kode_Pelanggan'] = df['Kode_Pelanggan'].replace('', np.nan)"
      ],
      "execution_count": 10,
      "outputs": []
    },
    {
      "cell_type": "code",
      "metadata": {
        "id": "JnXOy1rvjzfx"
      },
      "source": [
        "# extract values from df for data error 2 : null values in Kode_pelanggan\n",
        "data_error2_values = df[df['Kode_Pelanggan'].notna()]\n",
        "data_error2_values = data_error2_values.groupby(['Kode_Bayar', 'Kode_Pelanggan']).agg({'Jumlah': 'sum'}).reset_index()"
      ],
      "execution_count": 11,
      "outputs": []
    },
    {
      "cell_type": "code",
      "metadata": {
        "id": "7fzZmKI5lUQ_"
      },
      "source": [
        "# merge new values to df\n",
        "df = pd.merge(df,data_error2_values,on='Kode_Bayar',how='left')\n",
        "df = df.drop(columns=['Jumlah_y','Kode_Pelanggan_x'])\n",
        "df = df.rename(columns={'Jumlah_x':'Jumlah', 'Kode_Pelanggan_y' : 'Kode_Pelanggan'})"
      ],
      "execution_count": 12,
      "outputs": []
    },
    {
      "cell_type": "code",
      "metadata": {
        "colab": {
          "base_uri": "https://localhost:8080/",
          "height": 391
        },
        "id": "j8RU4Ge8Wzhn",
        "outputId": "2cc627e0-a2df-4fec-ede4-2d17ecf5fbd7"
      },
      "source": [
        "# examine nan value\n",
        "dfna = df[df.isna().any(axis=1)]\n",
        "dfna"
      ],
      "execution_count": 13,
      "outputs": [
        {
          "output_type": "execute_result",
          "data": {
            "text/html": [
              "<div>\n",
              "<style scoped>\n",
              "    .dataframe tbody tr th:only-of-type {\n",
              "        vertical-align: middle;\n",
              "    }\n",
              "\n",
              "    .dataframe tbody tr th {\n",
              "        vertical-align: top;\n",
              "    }\n",
              "\n",
              "    .dataframe thead th {\n",
              "        text-align: right;\n",
              "    }\n",
              "</style>\n",
              "<table border=\"1\" class=\"dataframe\">\n",
              "  <thead>\n",
              "    <tr style=\"text-align: right;\">\n",
              "      <th></th>\n",
              "      <th>Kode_Bayar</th>\n",
              "      <th>Kode_Barang</th>\n",
              "      <th>Barang</th>\n",
              "      <th>Jumlah</th>\n",
              "      <th>Tanggal_Transaksi</th>\n",
              "      <th>Harga_Satuan</th>\n",
              "      <th>Negara</th>\n",
              "      <th>Kode_Pelanggan</th>\n",
              "    </tr>\n",
              "  </thead>\n",
              "  <tbody>\n",
              "    <tr>\n",
              "      <th>112</th>\n",
              "      <td>536381</td>\n",
              "      <td>82567</td>\n",
              "      <td>NaN</td>\n",
              "      <td>2</td>\n",
              "      <td>12/1/2010 9:41</td>\n",
              "      <td>2.1</td>\n",
              "      <td>United Kingdom</td>\n",
              "      <td>15311</td>\n",
              "    </tr>\n",
              "    <tr>\n",
              "      <th>113</th>\n",
              "      <td>536381</td>\n",
              "      <td>82567</td>\n",
              "      <td>NaN</td>\n",
              "      <td>2</td>\n",
              "      <td>12/1/2010 9:41</td>\n",
              "      <td>2.1</td>\n",
              "      <td>United Kingdom</td>\n",
              "      <td>15311</td>\n",
              "    </tr>\n",
              "    <tr>\n",
              "      <th>288</th>\n",
              "      <td>536394</td>\n",
              "      <td>21506</td>\n",
              "      <td>NaN</td>\n",
              "      <td>24</td>\n",
              "      <td>12/1/2010 10:39</td>\n",
              "      <td>0.42</td>\n",
              "      <td>United Kingdom</td>\n",
              "      <td>13408</td>\n",
              "    </tr>\n",
              "    <tr>\n",
              "      <th>289</th>\n",
              "      <td>536394</td>\n",
              "      <td>21506</td>\n",
              "      <td>NaN</td>\n",
              "      <td>24</td>\n",
              "      <td>12/1/2010 10:39</td>\n",
              "      <td>0.42</td>\n",
              "      <td>United Kingdom</td>\n",
              "      <td>13408</td>\n",
              "    </tr>\n",
              "    <tr>\n",
              "      <th>668</th>\n",
              "      <td>536414</td>\n",
              "      <td>22139</td>\n",
              "      <td>NaN</td>\n",
              "      <td>56</td>\n",
              "      <td>12/1/2010 11:52</td>\n",
              "      <td>0</td>\n",
              "      <td>United Kingdom</td>\n",
              "      <td>NaN</td>\n",
              "    </tr>\n",
              "    <tr>\n",
              "      <th>...</th>\n",
              "      <td>...</td>\n",
              "      <td>...</td>\n",
              "      <td>...</td>\n",
              "      <td>...</td>\n",
              "      <td>...</td>\n",
              "      <td>...</td>\n",
              "      <td>...</td>\n",
              "      <td>...</td>\n",
              "    </tr>\n",
              "    <tr>\n",
              "      <th>643525</th>\n",
              "      <td>581516</td>\n",
              "      <td>21111</td>\n",
              "      <td>NaN</td>\n",
              "      <td>24</td>\n",
              "      <td>12/9/2011 11:26</td>\n",
              "      <td>1.25</td>\n",
              "      <td>United Kingdom</td>\n",
              "      <td>14422</td>\n",
              "    </tr>\n",
              "    <tr>\n",
              "      <th>643594</th>\n",
              "      <td>581538</td>\n",
              "      <td>85071C</td>\n",
              "      <td>NaN</td>\n",
              "      <td>1</td>\n",
              "      <td>12/9/2011 11:34</td>\n",
              "      <td>0.39</td>\n",
              "      <td>United Kingdom</td>\n",
              "      <td>14446</td>\n",
              "    </tr>\n",
              "    <tr>\n",
              "      <th>643595</th>\n",
              "      <td>581538</td>\n",
              "      <td>85071C</td>\n",
              "      <td>NaN</td>\n",
              "      <td>1</td>\n",
              "      <td>12/9/2011 11:34</td>\n",
              "      <td>0.39</td>\n",
              "      <td>United Kingdom</td>\n",
              "      <td>14446</td>\n",
              "    </tr>\n",
              "    <tr>\n",
              "      <th>643804</th>\n",
              "      <td>581578</td>\n",
              "      <td>21506</td>\n",
              "      <td>NaN</td>\n",
              "      <td>12</td>\n",
              "      <td>12/9/2011 12:16</td>\n",
              "      <td>0.42</td>\n",
              "      <td>Germany</td>\n",
              "      <td>12713</td>\n",
              "    </tr>\n",
              "    <tr>\n",
              "      <th>643805</th>\n",
              "      <td>581578</td>\n",
              "      <td>21506</td>\n",
              "      <td>NaN</td>\n",
              "      <td>12</td>\n",
              "      <td>12/9/2011 12:16</td>\n",
              "      <td>0.42</td>\n",
              "      <td>Germany</td>\n",
              "      <td>12713</td>\n",
              "    </tr>\n",
              "  </tbody>\n",
              "</table>\n",
              "<p>142344 rows × 8 columns</p>\n",
              "</div>"
            ],
            "text/plain": [
              "       Kode_Bayar Kode_Barang  ...          Negara Kode_Pelanggan\n",
              "112        536381       82567  ...  United Kingdom          15311\n",
              "113        536381       82567  ...  United Kingdom          15311\n",
              "288        536394       21506  ...  United Kingdom          13408\n",
              "289        536394       21506  ...  United Kingdom          13408\n",
              "668        536414       22139  ...  United Kingdom            NaN\n",
              "...           ...         ...  ...             ...            ...\n",
              "643525     581516       21111  ...  United Kingdom          14422\n",
              "643594     581538      85071C  ...  United Kingdom          14446\n",
              "643595     581538      85071C  ...  United Kingdom          14446\n",
              "643804     581578       21506  ...         Germany          12713\n",
              "643805     581578       21506  ...         Germany          12713\n",
              "\n",
              "[142344 rows x 8 columns]"
            ]
          },
          "metadata": {
            "tags": []
          },
          "execution_count": 13
        }
      ]
    },
    {
      "cell_type": "code",
      "metadata": {
        "id": "VNDovQCNbKyI"
      },
      "source": [
        "# create Barang dict names for data error 3 : Barang doesnt have name and mixed up with other status\n",
        "nama_barang = df.groupby(['Kode_Barang', 'Barang']).agg({'Barang': 'count'}).rename(columns={'Barang' : 'COUNT'}).reset_index()\n",
        "nama_barang = nama_barang.sort_values(by=['Kode_Barang', 'COUNT'],ascending=False)\n",
        "nama_barang = nama_barang.drop_duplicates(subset='Kode_Barang', keep=\"first\")\n",
        "nama_barang = nama_barang.drop(columns=['COUNT'])"
      ],
      "execution_count": 14,
      "outputs": []
    },
    {
      "cell_type": "code",
      "metadata": {
        "id": "bYopToJS6IU3"
      },
      "source": [
        "# Remove nan in Kode_pelanggan\n",
        "df_nan = df\n",
        "df = df[df['Kode_Pelanggan'].notna()]"
      ],
      "execution_count": 15,
      "outputs": []
    },
    {
      "cell_type": "code",
      "metadata": {
        "id": "kHf0vx_drA2r"
      },
      "source": [
        "# drop duplicates row\n",
        "df = df.drop_duplicates(subset=['Kode_Bayar', 'Kode_Barang', 'Jumlah',\t'Tanggal_Transaksi',\t'Harga_Satuan',\t'Kode_Pelanggan',\t'Negara'], keep=\"first\")"
      ],
      "execution_count": 16,
      "outputs": []
    },
    {
      "cell_type": "code",
      "metadata": {
        "colab": {
          "base_uri": "https://localhost:8080/"
        },
        "id": "YuMWjiIKuql3",
        "outputId": "0120b60b-eea6-4fd9-a115-dabb5e1088ad"
      },
      "source": [
        "df.info()"
      ],
      "execution_count": 17,
      "outputs": [
        {
          "output_type": "stream",
          "text": [
            "<class 'pandas.core.frame.DataFrame'>\n",
            "Int64Index: 501757 entries, 0 to 643944\n",
            "Data columns (total 8 columns):\n",
            " #   Column             Non-Null Count   Dtype \n",
            "---  ------             --------------   ----- \n",
            " 0   Kode_Bayar         501757 non-null  object\n",
            " 1   Kode_Barang        501757 non-null  object\n",
            " 2   Barang             494584 non-null  object\n",
            " 3   Jumlah             501757 non-null  object\n",
            " 4   Tanggal_Transaksi  501757 non-null  object\n",
            " 5   Harga_Satuan       501757 non-null  object\n",
            " 6   Negara             501757 non-null  object\n",
            " 7   Kode_Pelanggan     501757 non-null  object\n",
            "dtypes: object(8)\n",
            "memory usage: 34.5+ MB\n"
          ],
          "name": "stdout"
        }
      ]
    },
    {
      "cell_type": "code",
      "metadata": {
        "id": "WRDJYzL3LsVA"
      },
      "source": [
        "df['Jumlah'] = df.Jumlah.astype(int)\n",
        "df['Harga_Satuan'] = df.Harga_Satuan.astype(float)"
      ],
      "execution_count": 18,
      "outputs": []
    },
    {
      "cell_type": "markdown",
      "metadata": {
        "id": "PVsg9HaWuXKR"
      },
      "source": [
        "## **Question And Answer**"
      ]
    },
    {
      "cell_type": "markdown",
      "metadata": {
        "id": "Y4DCQKTOudid"
      },
      "source": [
        "### 1.\tWhat items customers buy the most and are there any items we should ignore?"
      ]
    },
    {
      "cell_type": "code",
      "metadata": {
        "id": "o78qdM6gvDp0"
      },
      "source": [
        "# make variable total = harga_satuan * jumlah\n",
        "df['Total'] = df['Harga_Satuan']*df['Jumlah']"
      ],
      "execution_count": 19,
      "outputs": []
    },
    {
      "cell_type": "code",
      "metadata": {
        "id": "2nzj53UPuWoL"
      },
      "source": [
        "# groupby and sort to get the items value\n",
        "barang = df.groupby(['Kode_Barang']).agg({'Jumlah': 'sum'}).reset_index()\n",
        "barang = barang.sort_values(by=['Jumlah'], ascending=False)"
      ],
      "execution_count": 20,
      "outputs": []
    },
    {
      "cell_type": "code",
      "metadata": {
        "colab": {
          "base_uri": "https://localhost:8080/",
          "height": 391
        },
        "id": "YcX8Wq2mvdpM",
        "outputId": "eb75caa3-d7f2-4aa4-d023-d89a6a30d4e6"
      },
      "source": [
        "# make the table contain Kode_barang, jumlah, nama barang\n",
        "sell = pd.merge(barang,nama_barang,on='Kode_Barang',how='left')\n",
        "sell"
      ],
      "execution_count": 21,
      "outputs": [
        {
          "output_type": "execute_result",
          "data": {
            "text/html": [
              "<div>\n",
              "<style scoped>\n",
              "    .dataframe tbody tr th:only-of-type {\n",
              "        vertical-align: middle;\n",
              "    }\n",
              "\n",
              "    .dataframe tbody tr th {\n",
              "        vertical-align: top;\n",
              "    }\n",
              "\n",
              "    .dataframe thead th {\n",
              "        text-align: right;\n",
              "    }\n",
              "</style>\n",
              "<table border=\"1\" class=\"dataframe\">\n",
              "  <thead>\n",
              "    <tr style=\"text-align: right;\">\n",
              "      <th></th>\n",
              "      <th>Kode_Barang</th>\n",
              "      <th>Jumlah</th>\n",
              "      <th>Barang</th>\n",
              "    </tr>\n",
              "  </thead>\n",
              "  <tbody>\n",
              "    <tr>\n",
              "      <th>0</th>\n",
              "      <td>84077</td>\n",
              "      <td>59664</td>\n",
              "      <td>WORLD WAR 2 GLIDERS ASSTD DESIGNS</td>\n",
              "    </tr>\n",
              "    <tr>\n",
              "      <th>1</th>\n",
              "      <td>22197</td>\n",
              "      <td>54034</td>\n",
              "      <td>POPCORN HOLDER</td>\n",
              "    </tr>\n",
              "    <tr>\n",
              "      <th>2</th>\n",
              "      <td>85099B</td>\n",
              "      <td>49163</td>\n",
              "      <td>JUMBO BAG RED RETROSPOT</td>\n",
              "    </tr>\n",
              "    <tr>\n",
              "      <th>3</th>\n",
              "      <td>21212</td>\n",
              "      <td>40836</td>\n",
              "      <td>PACK OF 72 RETROSPOT CAKE CASES</td>\n",
              "    </tr>\n",
              "    <tr>\n",
              "      <th>4</th>\n",
              "      <td>84879</td>\n",
              "      <td>39409</td>\n",
              "      <td>ASSORTED COLOUR BIRD ORNAMENT</td>\n",
              "    </tr>\n",
              "    <tr>\n",
              "      <th>...</th>\n",
              "      <td>...</td>\n",
              "      <td>...</td>\n",
              "      <td>...</td>\n",
              "    </tr>\n",
              "    <tr>\n",
              "      <th>3679</th>\n",
              "      <td>21144</td>\n",
              "      <td>-12</td>\n",
              "      <td>PINK POODLE HANGING DECORATION</td>\n",
              "    </tr>\n",
              "    <tr>\n",
              "      <th>3680</th>\n",
              "      <td>CRUK</td>\n",
              "      <td>-16</td>\n",
              "      <td>CRUK Commission</td>\n",
              "    </tr>\n",
              "    <tr>\n",
              "      <th>3681</th>\n",
              "      <td>21645</td>\n",
              "      <td>-24</td>\n",
              "      <td>ASSORTED TUTTI FRUTTI ROUND BOX</td>\n",
              "    </tr>\n",
              "    <tr>\n",
              "      <th>3682</th>\n",
              "      <td>84347</td>\n",
              "      <td>-840</td>\n",
              "      <td>ROTATING SILVER ANGELS T-LIGHT HLDR</td>\n",
              "    </tr>\n",
              "    <tr>\n",
              "      <th>3683</th>\n",
              "      <td>D</td>\n",
              "      <td>-1194</td>\n",
              "      <td>Discount</td>\n",
              "    </tr>\n",
              "  </tbody>\n",
              "</table>\n",
              "<p>3684 rows × 3 columns</p>\n",
              "</div>"
            ],
            "text/plain": [
              "     Kode_Barang  Jumlah                               Barang\n",
              "0          84077   59664    WORLD WAR 2 GLIDERS ASSTD DESIGNS\n",
              "1          22197   54034                       POPCORN HOLDER\n",
              "2         85099B   49163              JUMBO BAG RED RETROSPOT\n",
              "3          21212   40836      PACK OF 72 RETROSPOT CAKE CASES\n",
              "4          84879   39409        ASSORTED COLOUR BIRD ORNAMENT\n",
              "...          ...     ...                                  ...\n",
              "3679       21144     -12      PINK POODLE HANGING DECORATION \n",
              "3680        CRUK     -16                      CRUK Commission\n",
              "3681       21645     -24      ASSORTED TUTTI FRUTTI ROUND BOX\n",
              "3682       84347    -840  ROTATING SILVER ANGELS T-LIGHT HLDR\n",
              "3683           D   -1194                             Discount\n",
              "\n",
              "[3684 rows x 3 columns]"
            ]
          },
          "metadata": {
            "tags": []
          },
          "execution_count": 21
        }
      ]
    },
    {
      "cell_type": "markdown",
      "metadata": {
        "id": "dRlBrvmf2zH8"
      },
      "source": [
        "### 2.\tWhat is our strategy to increase sales based on our export destination countries?"
      ]
    },
    {
      "cell_type": "markdown",
      "metadata": {
        "id": "YRmkdr1xewH0"
      },
      "source": [
        "#### a.\tKeeping good stock, give discount, and follow the trend of favorite items for each country"
      ]
    },
    {
      "cell_type": "code",
      "metadata": {
        "id": "6FLFo3rm8iyn"
      },
      "source": [
        "# make sales table based on country and kode_barang \n",
        "sales_country = df.groupby(['Negara', 'Kode_Barang']).agg({'Total': 'sum', 'Jumlah':'sum'}).reset_index()\n",
        "sales_country = sales_country.sort_values(by=['Total'], ascending=False)\n",
        "sales_country = pd.merge(sales_country,nama_barang,on='Kode_Barang',how='left')"
      ],
      "execution_count": 22,
      "outputs": []
    },
    {
      "cell_type": "code",
      "metadata": {
        "colab": {
          "base_uri": "https://localhost:8080/",
          "height": 220
        },
        "id": "DiBJP-mWBtY-",
        "outputId": "c49e0039-29db-463f-b429-3cf17a5c018c"
      },
      "source": [
        "# sales in United Kingdom\n",
        "sales_country[sales_country['Negara'] == 'United Kingdom'].head(6)"
      ],
      "execution_count": 23,
      "outputs": [
        {
          "output_type": "execute_result",
          "data": {
            "text/html": [
              "<div>\n",
              "<style scoped>\n",
              "    .dataframe tbody tr th:only-of-type {\n",
              "        vertical-align: middle;\n",
              "    }\n",
              "\n",
              "    .dataframe tbody tr th {\n",
              "        vertical-align: top;\n",
              "    }\n",
              "\n",
              "    .dataframe thead th {\n",
              "        text-align: right;\n",
              "    }\n",
              "</style>\n",
              "<table border=\"1\" class=\"dataframe\">\n",
              "  <thead>\n",
              "    <tr style=\"text-align: right;\">\n",
              "      <th></th>\n",
              "      <th>Negara</th>\n",
              "      <th>Kode_Barang</th>\n",
              "      <th>Total</th>\n",
              "      <th>Jumlah</th>\n",
              "      <th>Barang</th>\n",
              "    </tr>\n",
              "  </thead>\n",
              "  <tbody>\n",
              "    <tr>\n",
              "      <th>0</th>\n",
              "      <td>United Kingdom</td>\n",
              "      <td>22423</td>\n",
              "      <td>115302.25</td>\n",
              "      <td>9963</td>\n",
              "      <td>REGENCY CAKESTAND 3 TIER</td>\n",
              "    </tr>\n",
              "    <tr>\n",
              "      <th>1</th>\n",
              "      <td>United Kingdom</td>\n",
              "      <td>85123A</td>\n",
              "      <td>99780.81</td>\n",
              "      <td>36299</td>\n",
              "      <td>WHITE HANGING HEART T-LIGHT HOLDER</td>\n",
              "    </tr>\n",
              "    <tr>\n",
              "      <th>2</th>\n",
              "      <td>United Kingdom</td>\n",
              "      <td>85099B</td>\n",
              "      <td>81100.96</td>\n",
              "      <td>43924</td>\n",
              "      <td>JUMBO BAG RED RETROSPOT</td>\n",
              "    </tr>\n",
              "    <tr>\n",
              "      <th>3</th>\n",
              "      <td>United Kingdom</td>\n",
              "      <td>47566</td>\n",
              "      <td>71798.16</td>\n",
              "      <td>15870</td>\n",
              "      <td>PARTY BUNTING</td>\n",
              "    </tr>\n",
              "    <tr>\n",
              "      <th>4</th>\n",
              "      <td>United Kingdom</td>\n",
              "      <td>84879</td>\n",
              "      <td>57992.99</td>\n",
              "      <td>36107</td>\n",
              "      <td>ASSORTED COLOUR BIRD ORNAMENT</td>\n",
              "    </tr>\n",
              "    <tr>\n",
              "      <th>5</th>\n",
              "      <td>United Kingdom</td>\n",
              "      <td>21137</td>\n",
              "      <td>54746.44</td>\n",
              "      <td>15994</td>\n",
              "      <td>BLACK RECORD COVER FRAME</td>\n",
              "    </tr>\n",
              "  </tbody>\n",
              "</table>\n",
              "</div>"
            ],
            "text/plain": [
              "           Negara Kode_Barang  ...  Jumlah                              Barang\n",
              "0  United Kingdom       22423  ...    9963            REGENCY CAKESTAND 3 TIER\n",
              "1  United Kingdom      85123A  ...   36299  WHITE HANGING HEART T-LIGHT HOLDER\n",
              "2  United Kingdom      85099B  ...   43924             JUMBO BAG RED RETROSPOT\n",
              "3  United Kingdom       47566  ...   15870                       PARTY BUNTING\n",
              "4  United Kingdom       84879  ...   36107       ASSORTED COLOUR BIRD ORNAMENT\n",
              "5  United Kingdom       21137  ...   15994            BLACK RECORD COVER FRAME\n",
              "\n",
              "[6 rows x 5 columns]"
            ]
          },
          "metadata": {
            "tags": []
          },
          "execution_count": 23
        }
      ]
    },
    {
      "cell_type": "markdown",
      "metadata": {
        "id": "YYMUyaOce722"
      },
      "source": [
        "#### b.\tGive a packet bundling with optimized price based on each country behavior"
      ]
    },
    {
      "cell_type": "code",
      "metadata": {
        "colab": {
          "base_uri": "https://localhost:8080/",
          "height": 478
        },
        "id": "N5dolRgyfl96",
        "outputId": "87508cbc-62f9-4822-cf11-033b0b97e270"
      },
      "source": [
        "# example of orders\n",
        "df.sort_values(by=['Tanggal_Transaksi']).head(15)"
      ],
      "execution_count": 24,
      "outputs": [
        {
          "output_type": "execute_result",
          "data": {
            "text/html": [
              "<div>\n",
              "<style scoped>\n",
              "    .dataframe tbody tr th:only-of-type {\n",
              "        vertical-align: middle;\n",
              "    }\n",
              "\n",
              "    .dataframe tbody tr th {\n",
              "        vertical-align: top;\n",
              "    }\n",
              "\n",
              "    .dataframe thead th {\n",
              "        text-align: right;\n",
              "    }\n",
              "</style>\n",
              "<table border=\"1\" class=\"dataframe\">\n",
              "  <thead>\n",
              "    <tr style=\"text-align: right;\">\n",
              "      <th></th>\n",
              "      <th>Kode_Bayar</th>\n",
              "      <th>Kode_Barang</th>\n",
              "      <th>Barang</th>\n",
              "      <th>Jumlah</th>\n",
              "      <th>Tanggal_Transaksi</th>\n",
              "      <th>Harga_Satuan</th>\n",
              "      <th>Negara</th>\n",
              "      <th>Kode_Pelanggan</th>\n",
              "      <th>Total</th>\n",
              "    </tr>\n",
              "  </thead>\n",
              "  <tbody>\n",
              "    <tr>\n",
              "      <th>59387</th>\n",
              "      <td>540561</td>\n",
              "      <td>47567B</td>\n",
              "      <td>TEA TIME KITCHEN APRON</td>\n",
              "      <td>3</td>\n",
              "      <td>1/10/2011 10:32</td>\n",
              "      <td>5.95</td>\n",
              "      <td>United Kingdom</td>\n",
              "      <td>13004</td>\n",
              "      <td>17.85</td>\n",
              "    </tr>\n",
              "    <tr>\n",
              "      <th>59372</th>\n",
              "      <td>540561</td>\n",
              "      <td>22966</td>\n",
              "      <td>GINGERBREAD MAN COOKIE CUTTER</td>\n",
              "      <td>12</td>\n",
              "      <td>1/10/2011 10:32</td>\n",
              "      <td>1.25</td>\n",
              "      <td>United Kingdom</td>\n",
              "      <td>13004</td>\n",
              "      <td>15.00</td>\n",
              "    </tr>\n",
              "    <tr>\n",
              "      <th>59371</th>\n",
              "      <td>540561</td>\n",
              "      <td>22720</td>\n",
              "      <td>SET OF 3 CAKE TINS PANTRY DESIGN</td>\n",
              "      <td>3</td>\n",
              "      <td>1/10/2011 10:32</td>\n",
              "      <td>4.95</td>\n",
              "      <td>United Kingdom</td>\n",
              "      <td>13004</td>\n",
              "      <td>14.85</td>\n",
              "    </tr>\n",
              "    <tr>\n",
              "      <th>59370</th>\n",
              "      <td>540561</td>\n",
              "      <td>84509G</td>\n",
              "      <td>SET OF 4 FAIRY CAKE PLACEMATS</td>\n",
              "      <td>12</td>\n",
              "      <td>1/10/2011 10:32</td>\n",
              "      <td>1.25</td>\n",
              "      <td>United Kingdom</td>\n",
              "      <td>13004</td>\n",
              "      <td>15.00</td>\n",
              "    </tr>\n",
              "    <tr>\n",
              "      <th>59369</th>\n",
              "      <td>540561</td>\n",
              "      <td>47504H</td>\n",
              "      <td>ENGLISH ROSE SPIRIT LEVEL</td>\n",
              "      <td>24</td>\n",
              "      <td>1/10/2011 10:32</td>\n",
              "      <td>0.85</td>\n",
              "      <td>United Kingdom</td>\n",
              "      <td>13004</td>\n",
              "      <td>20.40</td>\n",
              "    </tr>\n",
              "    <tr>\n",
              "      <th>59368</th>\n",
              "      <td>540561</td>\n",
              "      <td>22344</td>\n",
              "      <td>PARTY PIZZA DISH PINK POLKADOT</td>\n",
              "      <td>24</td>\n",
              "      <td>1/10/2011 10:32</td>\n",
              "      <td>0.21</td>\n",
              "      <td>United Kingdom</td>\n",
              "      <td>13004</td>\n",
              "      <td>5.04</td>\n",
              "    </tr>\n",
              "    <tr>\n",
              "      <th>59367</th>\n",
              "      <td>540561</td>\n",
              "      <td>22343</td>\n",
              "      <td>PARTY PIZZA DISH RED RETROSPOT</td>\n",
              "      <td>24</td>\n",
              "      <td>1/10/2011 10:32</td>\n",
              "      <td>0.21</td>\n",
              "      <td>United Kingdom</td>\n",
              "      <td>13004</td>\n",
              "      <td>5.04</td>\n",
              "    </tr>\n",
              "    <tr>\n",
              "      <th>59389</th>\n",
              "      <td>540561</td>\n",
              "      <td>22743</td>\n",
              "      <td>MAKE YOUR OWN FLOWERPOWER CARD KIT</td>\n",
              "      <td>6</td>\n",
              "      <td>1/10/2011 10:32</td>\n",
              "      <td>2.95</td>\n",
              "      <td>United Kingdom</td>\n",
              "      <td>13004</td>\n",
              "      <td>17.70</td>\n",
              "    </tr>\n",
              "    <tr>\n",
              "      <th>59388</th>\n",
              "      <td>540561</td>\n",
              "      <td>84581</td>\n",
              "      <td>DOG TOY WITH PINK CROCHET SKIRT</td>\n",
              "      <td>4</td>\n",
              "      <td>1/10/2011 10:32</td>\n",
              "      <td>3.75</td>\n",
              "      <td>United Kingdom</td>\n",
              "      <td>13004</td>\n",
              "      <td>15.00</td>\n",
              "    </tr>\n",
              "    <tr>\n",
              "      <th>59386</th>\n",
              "      <td>540561</td>\n",
              "      <td>21385</td>\n",
              "      <td>IVORY HANGING DECORATION  HEART</td>\n",
              "      <td>24</td>\n",
              "      <td>1/10/2011 10:32</td>\n",
              "      <td>0.85</td>\n",
              "      <td>United Kingdom</td>\n",
              "      <td>13004</td>\n",
              "      <td>20.40</td>\n",
              "    </tr>\n",
              "    <tr>\n",
              "      <th>59373</th>\n",
              "      <td>540561</td>\n",
              "      <td>21232</td>\n",
              "      <td>STRAWBERRY CERAMIC TRINKET BOX</td>\n",
              "      <td>12</td>\n",
              "      <td>1/10/2011 10:32</td>\n",
              "      <td>1.25</td>\n",
              "      <td>United Kingdom</td>\n",
              "      <td>13004</td>\n",
              "      <td>15.00</td>\n",
              "    </tr>\n",
              "    <tr>\n",
              "      <th>59385</th>\n",
              "      <td>540561</td>\n",
              "      <td>85059</td>\n",
              "      <td>FRENCH ENAMEL WATER BASIN</td>\n",
              "      <td>16</td>\n",
              "      <td>1/10/2011 10:32</td>\n",
              "      <td>1.25</td>\n",
              "      <td>United Kingdom</td>\n",
              "      <td>13004</td>\n",
              "      <td>20.00</td>\n",
              "    </tr>\n",
              "    <tr>\n",
              "      <th>59383</th>\n",
              "      <td>540561</td>\n",
              "      <td>21931</td>\n",
              "      <td>JUMBO STORAGE BAG SUKI</td>\n",
              "      <td>10</td>\n",
              "      <td>1/10/2011 10:32</td>\n",
              "      <td>1.95</td>\n",
              "      <td>United Kingdom</td>\n",
              "      <td>13004</td>\n",
              "      <td>19.50</td>\n",
              "    </tr>\n",
              "    <tr>\n",
              "      <th>59382</th>\n",
              "      <td>540561</td>\n",
              "      <td>22149</td>\n",
              "      <td>FELTCRAFT 6 FLOWER FRIENDS</td>\n",
              "      <td>6</td>\n",
              "      <td>1/10/2011 10:32</td>\n",
              "      <td>2.10</td>\n",
              "      <td>United Kingdom</td>\n",
              "      <td>13004</td>\n",
              "      <td>12.60</td>\n",
              "    </tr>\n",
              "    <tr>\n",
              "      <th>59381</th>\n",
              "      <td>540561</td>\n",
              "      <td>20983</td>\n",
              "      <td>12 PENCILS TALL TUBE RED RETROSPOT</td>\n",
              "      <td>12</td>\n",
              "      <td>1/10/2011 10:32</td>\n",
              "      <td>0.85</td>\n",
              "      <td>United Kingdom</td>\n",
              "      <td>13004</td>\n",
              "      <td>10.20</td>\n",
              "    </tr>\n",
              "  </tbody>\n",
              "</table>\n",
              "</div>"
            ],
            "text/plain": [
              "      Kode_Bayar Kode_Barang  ... Kode_Pelanggan  Total\n",
              "59387     540561      47567B  ...          13004  17.85\n",
              "59372     540561       22966  ...          13004  15.00\n",
              "59371     540561       22720  ...          13004  14.85\n",
              "59370     540561      84509G  ...          13004  15.00\n",
              "59369     540561      47504H  ...          13004  20.40\n",
              "59368     540561       22344  ...          13004   5.04\n",
              "59367     540561       22343  ...          13004   5.04\n",
              "59389     540561       22743  ...          13004  17.70\n",
              "59388     540561       84581  ...          13004  15.00\n",
              "59386     540561       21385  ...          13004  20.40\n",
              "59373     540561       21232  ...          13004  15.00\n",
              "59385     540561       85059  ...          13004  20.00\n",
              "59383     540561       21931  ...          13004  19.50\n",
              "59382     540561       22149  ...          13004  12.60\n",
              "59381     540561       20983  ...          13004  10.20\n",
              "\n",
              "[15 rows x 9 columns]"
            ]
          },
          "metadata": {
            "tags": []
          },
          "execution_count": 24
        }
      ]
    },
    {
      "cell_type": "markdown",
      "metadata": {
        "id": "hmsgOoFLfDfB"
      },
      "source": [
        "#### c.\tMake a recommender system that shows what items is hype fo each country"
      ]
    },
    {
      "cell_type": "markdown",
      "metadata": {
        "id": "ofyDTlfdfGft"
      },
      "source": [
        "#### d.\tOptimize logistic and advertising"
      ]
    },
    {
      "cell_type": "markdown",
      "metadata": {
        "id": "CeG_dkeR8cSS"
      },
      "source": [
        "### 3.\tDo customer segmentation appropriately. Please explain in detail and completely"
      ]
    },
    {
      "cell_type": "code",
      "metadata": {
        "colab": {
          "base_uri": "https://localhost:8080/",
          "height": 391
        },
        "id": "LBVuQDVN22he",
        "outputId": "b18d60c5-670b-4250-a044-442d482213c6"
      },
      "source": [
        "# create a df of customer based on average Total and Number of order\n",
        "sales_customer = df.groupby(['Kode_Pelanggan']).agg({'Total': 'mean','Kode_Barang':'nunique', 'Kode_Bayar' : 'nunique'}).reset_index()\n",
        "sales_customer = sales_customer.sort_values(by=['Total'], ascending=False)\n",
        "sales_customer"
      ],
      "execution_count": 25,
      "outputs": [
        {
          "output_type": "execute_result",
          "data": {
            "text/html": [
              "<div>\n",
              "<style scoped>\n",
              "    .dataframe tbody tr th:only-of-type {\n",
              "        vertical-align: middle;\n",
              "    }\n",
              "\n",
              "    .dataframe tbody tr th {\n",
              "        vertical-align: top;\n",
              "    }\n",
              "\n",
              "    .dataframe thead th {\n",
              "        text-align: right;\n",
              "    }\n",
              "</style>\n",
              "<table border=\"1\" class=\"dataframe\">\n",
              "  <thead>\n",
              "    <tr style=\"text-align: right;\">\n",
              "      <th></th>\n",
              "      <th>Kode_Pelanggan</th>\n",
              "      <th>Total</th>\n",
              "      <th>Kode_Barang</th>\n",
              "      <th>Kode_Bayar</th>\n",
              "    </tr>\n",
              "  </thead>\n",
              "  <tbody>\n",
              "    <tr>\n",
              "      <th>2102</th>\n",
              "      <td>15195</td>\n",
              "      <td>3861.000000</td>\n",
              "      <td>1</td>\n",
              "      <td>1</td>\n",
              "    </tr>\n",
              "    <tr>\n",
              "      <th>603</th>\n",
              "      <td>13135</td>\n",
              "      <td>3096.000000</td>\n",
              "      <td>1</td>\n",
              "      <td>1</td>\n",
              "    </tr>\n",
              "    <tr>\n",
              "      <th>4044</th>\n",
              "      <td>17846</td>\n",
              "      <td>2033.100000</td>\n",
              "      <td>1</td>\n",
              "      <td>1</td>\n",
              "    </tr>\n",
              "    <tr>\n",
              "      <th>3095</th>\n",
              "      <td>16532</td>\n",
              "      <td>1687.200000</td>\n",
              "      <td>2</td>\n",
              "      <td>3</td>\n",
              "    </tr>\n",
              "    <tr>\n",
              "      <th>2521</th>\n",
              "      <td>15749</td>\n",
              "      <td>1435.726667</td>\n",
              "      <td>6</td>\n",
              "      <td>4</td>\n",
              "    </tr>\n",
              "    <tr>\n",
              "      <th>...</th>\n",
              "      <td>...</td>\n",
              "      <td>...</td>\n",
              "      <td>...</td>\n",
              "      <td>...</td>\n",
              "    </tr>\n",
              "    <tr>\n",
              "      <th>1384</th>\n",
              "      <td>14213</td>\n",
              "      <td>-238.440000</td>\n",
              "      <td>5</td>\n",
              "      <td>1</td>\n",
              "    </tr>\n",
              "    <tr>\n",
              "      <th>619</th>\n",
              "      <td>13154</td>\n",
              "      <td>-611.860000</td>\n",
              "      <td>1</td>\n",
              "      <td>1</td>\n",
              "    </tr>\n",
              "    <tr>\n",
              "      <th>125</th>\n",
              "      <td>12503</td>\n",
              "      <td>-1126.000000</td>\n",
              "      <td>1</td>\n",
              "      <td>1</td>\n",
              "    </tr>\n",
              "    <tr>\n",
              "      <th>2235</th>\n",
              "      <td>15369</td>\n",
              "      <td>-1592.490000</td>\n",
              "      <td>1</td>\n",
              "      <td>1</td>\n",
              "    </tr>\n",
              "    <tr>\n",
              "      <th>3755</th>\n",
              "      <td>17448</td>\n",
              "      <td>-4287.630000</td>\n",
              "      <td>1</td>\n",
              "      <td>1</td>\n",
              "    </tr>\n",
              "  </tbody>\n",
              "</table>\n",
              "<p>5529 rows × 4 columns</p>\n",
              "</div>"
            ],
            "text/plain": [
              "     Kode_Pelanggan        Total  Kode_Barang  Kode_Bayar\n",
              "2102          15195  3861.000000            1           1\n",
              "603           13135  3096.000000            1           1\n",
              "4044          17846  2033.100000            1           1\n",
              "3095          16532  1687.200000            2           3\n",
              "2521          15749  1435.726667            6           4\n",
              "...             ...          ...          ...         ...\n",
              "1384          14213  -238.440000            5           1\n",
              "619           13154  -611.860000            1           1\n",
              "125           12503 -1126.000000            1           1\n",
              "2235          15369 -1592.490000            1           1\n",
              "3755          17448 -4287.630000            1           1\n",
              "\n",
              "[5529 rows x 4 columns]"
            ]
          },
          "metadata": {
            "tags": []
          },
          "execution_count": 25
        }
      ]
    },
    {
      "cell_type": "code",
      "metadata": {
        "colab": {
          "base_uri": "https://localhost:8080/",
          "height": 295
        },
        "id": "fbUZBGgtR7In",
        "outputId": "25bdd0c6-a14c-4319-e7e3-9a628188366e"
      },
      "source": [
        "# scatter plot the sales_customer\n",
        "import matplotlib.pyplot as plt\n",
        "plt.scatter(x=sales_customer.Kode_Bayar, y = sales_customer.Total)\n",
        "plt.ylabel('Average Spending')\n",
        "plt.xlabel('Number of order')\n",
        "plt.figure(figsize=(10, 10))\n",
        "plt.show()"
      ],
      "execution_count": 26,
      "outputs": [
        {
          "output_type": "display_data",
          "data": {
            "image/png": "[encoded data removed]",
            "text/plain": [
              "<Figure size 432x288 with 1 Axes>"
            ]
          },
          "metadata": {
            "tags": [],
            "needs_background": "light"
          }
        },
        {
          "output_type": "display_data",
          "data": {
            "text/plain": [
              "<Figure size 720x720 with 0 Axes>"
            ]
          },
          "metadata": {
            "tags": []
          }
        }
      ]
    },
    {
      "cell_type": "code",
      "metadata": {
        "colab": {
          "base_uri": "https://localhost:8080/",
          "height": 191
        },
        "id": "WUqYe_miXKFj",
        "outputId": "25f1d7fc-8b81-4395-9ffa-1fb658d73ec1"
      },
      "source": [
        "# get id of the minus spending outlier to read in excel\n",
        "sales_customer.sort_values(by=['Total'], ascending=True).head()"
      ],
      "execution_count": 27,
      "outputs": [
        {
          "output_type": "execute_result",
          "data": {
            "text/html": [
              "<div>\n",
              "<style scoped>\n",
              "    .dataframe tbody tr th:only-of-type {\n",
              "        vertical-align: middle;\n",
              "    }\n",
              "\n",
              "    .dataframe tbody tr th {\n",
              "        vertical-align: top;\n",
              "    }\n",
              "\n",
              "    .dataframe thead th {\n",
              "        text-align: right;\n",
              "    }\n",
              "</style>\n",
              "<table border=\"1\" class=\"dataframe\">\n",
              "  <thead>\n",
              "    <tr style=\"text-align: right;\">\n",
              "      <th></th>\n",
              "      <th>Kode_Pelanggan</th>\n",
              "      <th>Total</th>\n",
              "      <th>Kode_Barang</th>\n",
              "      <th>Kode_Bayar</th>\n",
              "    </tr>\n",
              "  </thead>\n",
              "  <tbody>\n",
              "    <tr>\n",
              "      <th>3755</th>\n",
              "      <td>17448</td>\n",
              "      <td>-4287.63</td>\n",
              "      <td>1</td>\n",
              "      <td>1</td>\n",
              "    </tr>\n",
              "    <tr>\n",
              "      <th>2235</th>\n",
              "      <td>15369</td>\n",
              "      <td>-1592.49</td>\n",
              "      <td>1</td>\n",
              "      <td>1</td>\n",
              "    </tr>\n",
              "    <tr>\n",
              "      <th>125</th>\n",
              "      <td>12503</td>\n",
              "      <td>-1126.00</td>\n",
              "      <td>1</td>\n",
              "      <td>1</td>\n",
              "    </tr>\n",
              "    <tr>\n",
              "      <th>619</th>\n",
              "      <td>13154</td>\n",
              "      <td>-611.86</td>\n",
              "      <td>1</td>\n",
              "      <td>1</td>\n",
              "    </tr>\n",
              "    <tr>\n",
              "      <th>1384</th>\n",
              "      <td>14213</td>\n",
              "      <td>-238.44</td>\n",
              "      <td>5</td>\n",
              "      <td>1</td>\n",
              "    </tr>\n",
              "  </tbody>\n",
              "</table>\n",
              "</div>"
            ],
            "text/plain": [
              "     Kode_Pelanggan    Total  Kode_Barang  Kode_Bayar\n",
              "3755          17448 -4287.63            1           1\n",
              "2235          15369 -1592.49            1           1\n",
              "125           12503 -1126.00            1           1\n",
              "619           13154  -611.86            1           1\n",
              "1384          14213  -238.44            5           1"
            ]
          },
          "metadata": {
            "tags": []
          },
          "execution_count": 27
        }
      ]
    },
    {
      "cell_type": "code",
      "metadata": {
        "colab": {
          "base_uri": "https://localhost:8080/",
          "height": 191
        },
        "id": "sZtSQXbRXZac",
        "outputId": "755891f2-ca53-4ecf-be43-933cf80bb3fe"
      },
      "source": [
        "# get id of the big spending outlier to read in excel\n",
        "sales_customer.sort_values(by=['Total'], ascending=False).head()"
      ],
      "execution_count": 28,
      "outputs": [
        {
          "output_type": "execute_result",
          "data": {
            "text/html": [
              "<div>\n",
              "<style scoped>\n",
              "    .dataframe tbody tr th:only-of-type {\n",
              "        vertical-align: middle;\n",
              "    }\n",
              "\n",
              "    .dataframe tbody tr th {\n",
              "        vertical-align: top;\n",
              "    }\n",
              "\n",
              "    .dataframe thead th {\n",
              "        text-align: right;\n",
              "    }\n",
              "</style>\n",
              "<table border=\"1\" class=\"dataframe\">\n",
              "  <thead>\n",
              "    <tr style=\"text-align: right;\">\n",
              "      <th></th>\n",
              "      <th>Kode_Pelanggan</th>\n",
              "      <th>Total</th>\n",
              "      <th>Kode_Barang</th>\n",
              "      <th>Kode_Bayar</th>\n",
              "    </tr>\n",
              "  </thead>\n",
              "  <tbody>\n",
              "    <tr>\n",
              "      <th>2102</th>\n",
              "      <td>15195</td>\n",
              "      <td>3861.000000</td>\n",
              "      <td>1</td>\n",
              "      <td>1</td>\n",
              "    </tr>\n",
              "    <tr>\n",
              "      <th>603</th>\n",
              "      <td>13135</td>\n",
              "      <td>3096.000000</td>\n",
              "      <td>1</td>\n",
              "      <td>1</td>\n",
              "    </tr>\n",
              "    <tr>\n",
              "      <th>4044</th>\n",
              "      <td>17846</td>\n",
              "      <td>2033.100000</td>\n",
              "      <td>1</td>\n",
              "      <td>1</td>\n",
              "    </tr>\n",
              "    <tr>\n",
              "      <th>3095</th>\n",
              "      <td>16532</td>\n",
              "      <td>1687.200000</td>\n",
              "      <td>2</td>\n",
              "      <td>3</td>\n",
              "    </tr>\n",
              "    <tr>\n",
              "      <th>2521</th>\n",
              "      <td>15749</td>\n",
              "      <td>1435.726667</td>\n",
              "      <td>6</td>\n",
              "      <td>4</td>\n",
              "    </tr>\n",
              "  </tbody>\n",
              "</table>\n",
              "</div>"
            ],
            "text/plain": [
              "     Kode_Pelanggan        Total  Kode_Barang  Kode_Bayar\n",
              "2102          15195  3861.000000            1           1\n",
              "603           13135  3096.000000            1           1\n",
              "4044          17846  2033.100000            1           1\n",
              "3095          16532  1687.200000            2           3\n",
              "2521          15749  1435.726667            6           4"
            ]
          },
          "metadata": {
            "tags": []
          },
          "execution_count": 28
        }
      ]
    },
    {
      "cell_type": "code",
      "metadata": {
        "colab": {
          "base_uri": "https://localhost:8080/",
          "height": 191
        },
        "id": "Y2lIetwehQzb",
        "outputId": "6076f212-e455-441d-a7d6-61dce661647e"
      },
      "source": [
        "# get id of the very loyal outlier to read in excel\n",
        "sales_customer.sort_values(by=['Kode_Bayar'], ascending=False).head()"
      ],
      "execution_count": 29,
      "outputs": [
        {
          "output_type": "execute_result",
          "data": {
            "text/html": [
              "<div>\n",
              "<style scoped>\n",
              "    .dataframe tbody tr th:only-of-type {\n",
              "        vertical-align: middle;\n",
              "    }\n",
              "\n",
              "    .dataframe tbody tr th {\n",
              "        vertical-align: top;\n",
              "    }\n",
              "\n",
              "    .dataframe thead th {\n",
              "        text-align: right;\n",
              "    }\n",
              "</style>\n",
              "<table border=\"1\" class=\"dataframe\">\n",
              "  <thead>\n",
              "    <tr style=\"text-align: right;\">\n",
              "      <th></th>\n",
              "      <th>Kode_Pelanggan</th>\n",
              "      <th>Total</th>\n",
              "      <th>Kode_Barang</th>\n",
              "      <th>Kode_Bayar</th>\n",
              "    </tr>\n",
              "  </thead>\n",
              "  <tbody>\n",
              "    <tr>\n",
              "      <th>1894</th>\n",
              "      <td>14911</td>\n",
              "      <td>22.458245</td>\n",
              "      <td>1794</td>\n",
              "      <td>248</td>\n",
              "    </tr>\n",
              "    <tr>\n",
              "      <th>330</th>\n",
              "      <td>12748</td>\n",
              "      <td>6.370388</td>\n",
              "      <td>1769</td>\n",
              "      <td>224</td>\n",
              "    </tr>\n",
              "    <tr>\n",
              "      <th>4041</th>\n",
              "      <td>17841</td>\n",
              "      <td>5.100301</td>\n",
              "      <td>1331</td>\n",
              "      <td>168</td>\n",
              "    </tr>\n",
              "    <tr>\n",
              "      <th>1673</th>\n",
              "      <td>14606</td>\n",
              "      <td>4.218180</td>\n",
              "      <td>832</td>\n",
              "      <td>127</td>\n",
              "    </tr>\n",
              "    <tr>\n",
              "      <th>568</th>\n",
              "      <td>13089</td>\n",
              "      <td>30.934771</td>\n",
              "      <td>636</td>\n",
              "      <td>118</td>\n",
              "    </tr>\n",
              "  </tbody>\n",
              "</table>\n",
              "</div>"
            ],
            "text/plain": [
              "     Kode_Pelanggan      Total  Kode_Barang  Kode_Bayar\n",
              "1894          14911  22.458245         1794         248\n",
              "330           12748   6.370388         1769         224\n",
              "4041          17841   5.100301         1331         168\n",
              "1673          14606   4.218180          832         127\n",
              "568           13089  30.934771          636         118"
            ]
          },
          "metadata": {
            "tags": []
          },
          "execution_count": 29
        }
      ]
    },
    {
      "cell_type": "code",
      "metadata": {
        "id": "b-EW5BvgtoDA"
      },
      "source": [
        "# removing outlier with boxplot quantile formula\n",
        "Q1 = sales_customer['Total'].quantile(0.25)\n",
        "Q3 = sales_customer['Total'].quantile(0.75)\n",
        "IQR = Q3 - Q1\n",
        "Q12 = sales_customer['Kode_Bayar'].quantile(0.25)\n",
        "Q32 = sales_customer['Kode_Bayar'].quantile(0.75)\n",
        "IQR2 = Q32 - Q12\n",
        "filter = (sales_customer['Total'] >= Q1 + 0.5 * IQR) & (sales_customer['Total'] <= Q3 + 1.5 *IQR ) & (sales_customer['Kode_Bayar'] >= Q12 - 1.5 * IQR2) & (sales_customer['Kode_Bayar'] <= Q32 + 1.5 *IQR2)\n",
        "sales_customer = sales_customer.loc[filter]  "
      ],
      "execution_count": 30,
      "outputs": []
    },
    {
      "cell_type": "code",
      "metadata": {
        "id": "FhZr1nZdOxI1"
      },
      "source": [
        "# Standard scaling\n",
        "from sklearn.compose import ColumnTransformer\n",
        "from sklearn.preprocessing import StandardScaler\n",
        "\n",
        "ct = ColumnTransformer([\n",
        "        ('somename', StandardScaler(), ['Total', 'Kode_Barang',\t'Kode_Bayar'])\n",
        "    ], remainder='passthrough')\n",
        "\n",
        "sales_customer = ct.fit_transform(sales_customer)\n",
        "sales_customer = pd.DataFrame(sales_customer,  columns = ['Total', 'Kode_Barang',\t'Kode_Bayar','Kode_Pelanggan'])"
      ],
      "execution_count": 31,
      "outputs": []
    },
    {
      "cell_type": "code",
      "metadata": {
        "colab": {
          "base_uri": "https://localhost:8080/",
          "height": 295
        },
        "id": "dpMd3kEkoeYP",
        "outputId": "a5e7d1b6-6c29-4b8d-bd80-fb0998ec135c"
      },
      "source": [
        "# scatter plot new sales_customer\n",
        "plt.scatter(x=sales_customer.Kode_Bayar, y = sales_customer.Total)\n",
        "plt.ylabel('Average Spending')\n",
        "plt.xlabel('Number of order')\n",
        "plt.figure(figsize=(10, 10))\n",
        "plt.show()"
      ],
      "execution_count": 32,
      "outputs": [
        {
          "output_type": "display_data",
          "data": {
            "image/png": "[encoded data removed]",
            "text/plain": [
              "<Figure size 432x288 with 1 Axes>"
            ]
          },
          "metadata": {
            "tags": [],
            "needs_background": "light"
          }
        },
        {
          "output_type": "display_data",
          "data": {
            "text/plain": [
              "<Figure size 720x720 with 0 Axes>"
            ]
          },
          "metadata": {
            "tags": []
          }
        }
      ]
    },
    {
      "cell_type": "code",
      "metadata": {
        "id": "r6-G1VImJb2A"
      },
      "source": [
        "# get Q3 for clustering criteria\n",
        "m_Kode_Bayar = sales_customer['Kode_Bayar'].quantile(0.75)\n",
        "m_Total = sales_customer['Total'].quantile(0.75)"
      ],
      "execution_count": 33,
      "outputs": []
    },
    {
      "cell_type": "code",
      "metadata": {
        "id": "eLf4AK0kKCui"
      },
      "source": [
        "# define the cluster\n",
        "sales_customer['cluster1'] = np.where((sales_customer['Kode_Bayar'] <= m_Kode_Bayar) & (sales_customer['Total'] <= m_Total), 1, 0)\n",
        "sales_customer['cluster2'] = np.where((sales_customer['Kode_Bayar'] <= m_Kode_Bayar) & (sales_customer['Total'] > m_Total), 2, 0)\n",
        "sales_customer['cluster3'] = np.where((sales_customer['Kode_Bayar'] > m_Kode_Bayar) & (sales_customer['Total'] <= m_Total), 3, 0)\n",
        "sales_customer['cluster4'] = np.where((sales_customer['Kode_Bayar'] > m_Kode_Bayar) & (sales_customer['Total'] > m_Total), 4, 0)\n",
        "sales_customer['cluster'] = sales_customer['cluster1'] + sales_customer['cluster2'] + sales_customer['cluster3'] + sales_customer['cluster4']"
      ],
      "execution_count": 34,
      "outputs": []
    },
    {
      "cell_type": "code",
      "metadata": {
        "colab": {
          "base_uri": "https://localhost:8080/",
          "height": 295
        },
        "id": "jDE6-z32MkZr",
        "outputId": "aa421dd6-fad2-4da6-8160-1bb8400f98e4"
      },
      "source": [
        "# scatter plot the new customer cluster\n",
        "color = np.array(['black', 'green', 'yellow','blue', 'red'])\n",
        "plt.scatter(x=sales_customer.Kode_Bayar, y = sales_customer.Total, c=color[sales_customer.cluster])\n",
        "plt.ylabel('Average Spending')\n",
        "plt.xlabel('Number of order')\n",
        "plt.figure(figsize=(10, 10))\n",
        "plt.show()"
      ],
      "execution_count": 35,
      "outputs": [
        {
          "output_type": "display_data",
          "data": {
            "image/png": "[encoded data removed]",
            "text/plain": [
              "<Figure size 432x288 with 1 Axes>"
            ]
          },
          "metadata": {
            "tags": [],
            "needs_background": "light"
          }
        },
        {
          "output_type": "display_data",
          "data": {
            "text/plain": [
              "<Figure size 720x720 with 0 Axes>"
            ]
          },
          "metadata": {
            "tags": []
          }
        }
      ]
    },
    {
      "cell_type": "markdown",
      "metadata": {
        "id": "Xem_9G3binvL"
      },
      "source": [
        "### 4.\tGet the hidden insight from the data"
      ]
    },
    {
      "cell_type": "markdown",
      "metadata": {
        "id": "tjQVUvGtiuuU"
      },
      "source": [
        "#### a. Our company is following a fundraiser for CRUK (Cancer Research UK)"
      ]
    },
    {
      "cell_type": "code",
      "metadata": {
        "colab": {
          "base_uri": "https://localhost:8080/",
          "height": 191
        },
        "id": "tHkRbaSvgihU",
        "outputId": "9a43c6ab-b803-4877-d001-2438a0a4ac73"
      },
      "source": [
        "# show cruk value\n",
        "df[df['Kode_Barang'] == 'CRUK'].head()"
      ],
      "execution_count": 36,
      "outputs": [
        {
          "output_type": "execute_result",
          "data": {
            "text/html": [
              "<div>\n",
              "<style scoped>\n",
              "    .dataframe tbody tr th:only-of-type {\n",
              "        vertical-align: middle;\n",
              "    }\n",
              "\n",
              "    .dataframe tbody tr th {\n",
              "        vertical-align: top;\n",
              "    }\n",
              "\n",
              "    .dataframe thead th {\n",
              "        text-align: right;\n",
              "    }\n",
              "</style>\n",
              "<table border=\"1\" class=\"dataframe\">\n",
              "  <thead>\n",
              "    <tr style=\"text-align: right;\">\n",
              "      <th></th>\n",
              "      <th>Kode_Bayar</th>\n",
              "      <th>Kode_Barang</th>\n",
              "      <th>Barang</th>\n",
              "      <th>Jumlah</th>\n",
              "      <th>Tanggal_Transaksi</th>\n",
              "      <th>Harga_Satuan</th>\n",
              "      <th>Negara</th>\n",
              "      <th>Kode_Pelanggan</th>\n",
              "      <th>Total</th>\n",
              "    </tr>\n",
              "  </thead>\n",
              "  <tbody>\n",
              "    <tr>\n",
              "      <th>377926</th>\n",
              "      <td>564763</td>\n",
              "      <td>CRUK</td>\n",
              "      <td>CRUK Commission</td>\n",
              "      <td>-1</td>\n",
              "      <td>8/30/2011 10:49</td>\n",
              "      <td>1.60</td>\n",
              "      <td>United Kingdom</td>\n",
              "      <td>14096</td>\n",
              "      <td>-1.60</td>\n",
              "    </tr>\n",
              "    <tr>\n",
              "      <th>385191</th>\n",
              "      <td>565382</td>\n",
              "      <td>CRUK</td>\n",
              "      <td>CRUK Commission</td>\n",
              "      <td>-1</td>\n",
              "      <td>9/2/2011 15:45</td>\n",
              "      <td>13.01</td>\n",
              "      <td>United Kingdom</td>\n",
              "      <td>14096</td>\n",
              "      <td>-13.01</td>\n",
              "    </tr>\n",
              "    <tr>\n",
              "      <th>396535</th>\n",
              "      <td>566216</td>\n",
              "      <td>CRUK</td>\n",
              "      <td>CRUK Commission</td>\n",
              "      <td>-1</td>\n",
              "      <td>9/9/2011 15:17</td>\n",
              "      <td>15.96</td>\n",
              "      <td>United Kingdom</td>\n",
              "      <td>14096</td>\n",
              "      <td>-15.96</td>\n",
              "    </tr>\n",
              "    <tr>\n",
              "      <th>403060</th>\n",
              "      <td>566565</td>\n",
              "      <td>CRUK</td>\n",
              "      <td>CRUK Commission</td>\n",
              "      <td>-1</td>\n",
              "      <td>9/13/2011 12:32</td>\n",
              "      <td>52.24</td>\n",
              "      <td>United Kingdom</td>\n",
              "      <td>14096</td>\n",
              "      <td>-52.24</td>\n",
              "    </tr>\n",
              "    <tr>\n",
              "      <th>417155</th>\n",
              "      <td>567655</td>\n",
              "      <td>CRUK</td>\n",
              "      <td>CRUK Commission</td>\n",
              "      <td>-1</td>\n",
              "      <td>9/21/2011 14:40</td>\n",
              "      <td>608.66</td>\n",
              "      <td>United Kingdom</td>\n",
              "      <td>14096</td>\n",
              "      <td>-608.66</td>\n",
              "    </tr>\n",
              "  </tbody>\n",
              "</table>\n",
              "</div>"
            ],
            "text/plain": [
              "       Kode_Bayar Kode_Barang  ... Kode_Pelanggan   Total\n",
              "377926     564763        CRUK  ...          14096   -1.60\n",
              "385191     565382        CRUK  ...          14096  -13.01\n",
              "396535     566216        CRUK  ...          14096  -15.96\n",
              "403060     566565        CRUK  ...          14096  -52.24\n",
              "417155     567655        CRUK  ...          14096 -608.66\n",
              "\n",
              "[5 rows x 9 columns]"
            ]
          },
          "metadata": {
            "tags": []
          },
          "execution_count": 36
        }
      ]
    },
    {
      "cell_type": "markdown",
      "metadata": {
        "id": "Brz9IZavlPO7"
      },
      "source": [
        "#### b. Sales perfomance by month"
      ]
    },
    {
      "cell_type": "code",
      "metadata": {
        "id": "YEj0EXFrky7a"
      },
      "source": [
        "# split month and year\n",
        "df['month'] = pd.DatetimeIndex(df['Tanggal_Transaksi']).month\n",
        "df['year'] = pd.DatetimeIndex(df['Tanggal_Transaksi']).year"
      ],
      "execution_count": 37,
      "outputs": []
    },
    {
      "cell_type": "code",
      "metadata": {
        "colab": {
          "base_uri": "https://localhost:8080/",
          "height": 421
        },
        "id": "WcyoP-1Wlbv1",
        "outputId": "be8bbe25-d4c5-454e-aacb-c87ac9c7b32b"
      },
      "source": [
        "# create sales_month_year df\n",
        "sales_month_year = df.groupby(by=['year', 'month']).agg({'Total': 'sum', 'Kode_Barang':'nunique'}).reset_index()\n",
        "sales_month_year = sales_month_year.sort_values(by=['year','month'], ascending=True)\n",
        "sales_month_year"
      ],
      "execution_count": 38,
      "outputs": [
        {
          "output_type": "execute_result",
          "data": {
            "text/html": [
              "<div>\n",
              "<style scoped>\n",
              "    .dataframe tbody tr th:only-of-type {\n",
              "        vertical-align: middle;\n",
              "    }\n",
              "\n",
              "    .dataframe tbody tr th {\n",
              "        vertical-align: top;\n",
              "    }\n",
              "\n",
              "    .dataframe thead th {\n",
              "        text-align: right;\n",
              "    }\n",
              "</style>\n",
              "<table border=\"1\" class=\"dataframe\">\n",
              "  <thead>\n",
              "    <tr style=\"text-align: right;\">\n",
              "      <th></th>\n",
              "      <th>year</th>\n",
              "      <th>month</th>\n",
              "      <th>Total</th>\n",
              "      <th>Kode_Barang</th>\n",
              "    </tr>\n",
              "  </thead>\n",
              "  <tbody>\n",
              "    <tr>\n",
              "      <th>0</th>\n",
              "      <td>2010</td>\n",
              "      <td>12</td>\n",
              "      <td>665139.230</td>\n",
              "      <td>2422</td>\n",
              "    </tr>\n",
              "    <tr>\n",
              "      <th>1</th>\n",
              "      <td>2011</td>\n",
              "      <td>1</td>\n",
              "      <td>595690.570</td>\n",
              "      <td>2154</td>\n",
              "    </tr>\n",
              "    <tr>\n",
              "      <th>2</th>\n",
              "      <td>2011</td>\n",
              "      <td>2</td>\n",
              "      <td>552975.400</td>\n",
              "      <td>2144</td>\n",
              "    </tr>\n",
              "    <tr>\n",
              "      <th>3</th>\n",
              "      <td>2011</td>\n",
              "      <td>3</td>\n",
              "      <td>714306.530</td>\n",
              "      <td>2244</td>\n",
              "    </tr>\n",
              "    <tr>\n",
              "      <th>4</th>\n",
              "      <td>2011</td>\n",
              "      <td>4</td>\n",
              "      <td>510875.962</td>\n",
              "      <td>2228</td>\n",
              "    </tr>\n",
              "    <tr>\n",
              "      <th>5</th>\n",
              "      <td>2011</td>\n",
              "      <td>5</td>\n",
              "      <td>771437.530</td>\n",
              "      <td>2232</td>\n",
              "    </tr>\n",
              "    <tr>\n",
              "      <th>6</th>\n",
              "      <td>2011</td>\n",
              "      <td>6</td>\n",
              "      <td>699742.120</td>\n",
              "      <td>2345</td>\n",
              "    </tr>\n",
              "    <tr>\n",
              "      <th>7</th>\n",
              "      <td>2011</td>\n",
              "      <td>7</td>\n",
              "      <td>672840.551</td>\n",
              "      <td>2370</td>\n",
              "    </tr>\n",
              "    <tr>\n",
              "      <th>8</th>\n",
              "      <td>2011</td>\n",
              "      <td>8</td>\n",
              "      <td>698698.020</td>\n",
              "      <td>2369</td>\n",
              "    </tr>\n",
              "    <tr>\n",
              "      <th>9</th>\n",
              "      <td>2011</td>\n",
              "      <td>9</td>\n",
              "      <td>1039977.312</td>\n",
              "      <td>2552</td>\n",
              "    </tr>\n",
              "    <tr>\n",
              "      <th>10</th>\n",
              "      <td>2011</td>\n",
              "      <td>10</td>\n",
              "      <td>1113626.780</td>\n",
              "      <td>2663</td>\n",
              "    </tr>\n",
              "    <tr>\n",
              "      <th>11</th>\n",
              "      <td>2011</td>\n",
              "      <td>11</td>\n",
              "      <td>1311050.220</td>\n",
              "      <td>2704</td>\n",
              "    </tr>\n",
              "    <tr>\n",
              "      <th>12</th>\n",
              "      <td>2011</td>\n",
              "      <td>12</td>\n",
              "      <td>393360.880</td>\n",
              "      <td>2191</td>\n",
              "    </tr>\n",
              "  </tbody>\n",
              "</table>\n",
              "</div>"
            ],
            "text/plain": [
              "    year  month        Total  Kode_Barang\n",
              "0   2010     12   665139.230         2422\n",
              "1   2011      1   595690.570         2154\n",
              "2   2011      2   552975.400         2144\n",
              "3   2011      3   714306.530         2244\n",
              "4   2011      4   510875.962         2228\n",
              "5   2011      5   771437.530         2232\n",
              "6   2011      6   699742.120         2345\n",
              "7   2011      7   672840.551         2370\n",
              "8   2011      8   698698.020         2369\n",
              "9   2011      9  1039977.312         2552\n",
              "10  2011     10  1113626.780         2663\n",
              "11  2011     11  1311050.220         2704\n",
              "12  2011     12   393360.880         2191"
            ]
          },
          "metadata": {
            "tags": []
          },
          "execution_count": 38
        }
      ]
    },
    {
      "cell_type": "code",
      "metadata": {
        "id": "B2KREvQPn897"
      },
      "source": [
        "# get data 2011\n",
        "sales_month_2011 = sales_month_year[sales_month_year['year'] == 2011]"
      ],
      "execution_count": 39,
      "outputs": []
    },
    {
      "cell_type": "code",
      "metadata": {
        "colab": {
          "base_uri": "https://localhost:8080/",
          "height": 306
        },
        "id": "-gyY3hTdmvv2",
        "outputId": "f86384c6-d986-4c96-d69e-ade3d966667a"
      },
      "source": [
        "# plot revenue data 2011\n",
        "plt.plot(sales_month_2011.month, sales_month_2011.Total)\n",
        "plt.ylabel('Revenue')\n",
        "plt.xlabel('Month')\n",
        "plt.figure(figsize=(10, 10))\n",
        "plt.show()"
      ],
      "execution_count": 40,
      "outputs": [
        {
          "output_type": "display_data",
          "data": {
            "image/png": "[encoded data removed]",
            "text/plain": [
              "<Figure size 432x288 with 1 Axes>"
            ]
          },
          "metadata": {
            "tags": [],
            "needs_background": "light"
          }
        },
        {
          "output_type": "display_data",
          "data": {
            "text/plain": [
              "<Figure size 720x720 with 0 Axes>"
            ]
          },
          "metadata": {
            "tags": []
          }
        }
      ]
    },
    {
      "cell_type": "code",
      "metadata": {
        "colab": {
          "base_uri": "https://localhost:8080/",
          "height": 295
        },
        "id": "PVW6QEIBrb9m",
        "outputId": "f9f6be95-6cc0-418f-83f7-eff0f1cc34a0"
      },
      "source": [
        "# plot number of orders data 2011\n",
        "plt.plot(sales_month_2011.month, sales_month_2011.Kode_Barang)\n",
        "plt.ylabel('Number of order')\n",
        "plt.xlabel('Month')\n",
        "plt.figure(figsize=(10, 10))\n",
        "plt.show()"
      ],
      "execution_count": 41,
      "outputs": [
        {
          "output_type": "display_data",
          "data": {
            "image/png": "[encoded data removed]",
            "text/plain": [
              "<Figure size 432x288 with 1 Axes>"
            ]
          },
          "metadata": {
            "tags": [],
            "needs_background": "light"
          }
        },
        {
          "output_type": "display_data",
          "data": {
            "text/plain": [
              "<Figure size 720x720 with 0 Axes>"
            ]
          },
          "metadata": {
            "tags": []
          }
        }
      ]
    },
    {
      "cell_type": "code",
      "metadata": {
        "colab": {
          "base_uri": "https://localhost:8080/",
          "height": 191
        },
        "id": "FEhw7p_8xQ6E",
        "outputId": "fa51fb0e-6a08-4c8d-f7aa-e60a7eae403c"
      },
      "source": [
        "# revenue per country in November\n",
        "rev_coun = df[df['month'] == 11].groupby(by=['Negara']).agg({'Total': 'sum'}).reset_index()\n",
        "rev_coun.sort_values(by=['Total'], ascending=False).head()"
      ],
      "execution_count": 42,
      "outputs": [
        {
          "output_type": "execute_result",
          "data": {
            "text/html": [
              "<div>\n",
              "<style scoped>\n",
              "    .dataframe tbody tr th:only-of-type {\n",
              "        vertical-align: middle;\n",
              "    }\n",
              "\n",
              "    .dataframe tbody tr th {\n",
              "        vertical-align: top;\n",
              "    }\n",
              "\n",
              "    .dataframe thead th {\n",
              "        text-align: right;\n",
              "    }\n",
              "</style>\n",
              "<table border=\"1\" class=\"dataframe\">\n",
              "  <thead>\n",
              "    <tr style=\"text-align: right;\">\n",
              "      <th></th>\n",
              "      <th>Negara</th>\n",
              "      <th>Total</th>\n",
              "    </tr>\n",
              "  </thead>\n",
              "  <tbody>\n",
              "    <tr>\n",
              "      <th>21</th>\n",
              "      <td>United Kingdom</td>\n",
              "      <td>1115143.49</td>\n",
              "    </tr>\n",
              "    <tr>\n",
              "      <th>9</th>\n",
              "      <td>France</td>\n",
              "      <td>30216.50</td>\n",
              "    </tr>\n",
              "    <tr>\n",
              "      <th>7</th>\n",
              "      <td>EIRE</td>\n",
              "      <td>30040.57</td>\n",
              "    </tr>\n",
              "    <tr>\n",
              "      <th>10</th>\n",
              "      <td>Germany</td>\n",
              "      <td>27647.87</td>\n",
              "    </tr>\n",
              "    <tr>\n",
              "      <th>14</th>\n",
              "      <td>Netherlands</td>\n",
              "      <td>25856.01</td>\n",
              "    </tr>\n",
              "  </tbody>\n",
              "</table>\n",
              "</div>"
            ],
            "text/plain": [
              "            Negara       Total\n",
              "21  United Kingdom  1115143.49\n",
              "9           France    30216.50\n",
              "7             EIRE    30040.57\n",
              "10         Germany    27647.87\n",
              "14     Netherlands    25856.01"
            ]
          },
          "metadata": {
            "tags": []
          },
          "execution_count": 42
        }
      ]
    }
  ]
}